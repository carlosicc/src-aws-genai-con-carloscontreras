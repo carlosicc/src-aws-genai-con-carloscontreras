{
 "cells": [
  {
   "cell_type": "markdown",
   "metadata": {},
   "source": [
    "#### Describe imágenes de Propiedades en Venta o Alquiler"
   ]
  },
  {
   "cell_type": "code",
   "execution_count": 1,
   "metadata": {},
   "outputs": [],
   "source": [
    "\"\"\"\n",
    "@ Credits: https://community.aws/content/2hHgVE7Lz6Jj1vFv39zSzzlCilG/getting-started-with-the-amazon-bedrock-converse-api\n",
    "\"\"\"\n",
    "import boto3\n",
    "import json\n",
    "import pprint"
   ]
  },
  {
   "cell_type": "code",
   "execution_count": 5,
   "metadata": {},
   "outputs": [],
   "source": [
    "# Start SDK\n",
    "session = boto3.Session(profile_name=\"default\")\n",
    "bedrock = session.client(service_name='bedrock-runtime', region_name=\"us-west-2\")\n",
    "\n",
    "with open(\"assets/images/property.jpg\", \"rb\") as image_file:\n",
    "    image_bytes = image_file.read()\n",
    "\n",
    "message_list = []\n",
    "\n",
    "# Adjust the prompt to your needs.\n",
    "# - i.e. If you don't recognize the book or music album, simply describe what you see.\n",
    "image_message = {\n",
    "    \"role\": \"user\",\n",
    "    \"content\": [\n",
    "        { \"text\": \"Image 1:\" },\n",
    "        {\n",
    "            \"image\": {\n",
    "                \"format\": \"webp\",\n",
    "                \"source\": {\n",
    "                    # No base64 encoding required\n",
    "                    \"bytes\": image_bytes\n",
    "                }\n",
    "            }\n",
    "        },\n",
    "        { \"text\": \"\"\"Please, describe the property from the image in French.\n",
    "         Capture the key details and features of the property in a clear,\n",
    "         concise, and compelling way. Describe the overall layout, size, \n",
    "         and condition of the home. Highlight the most attractive and noteworthy \n",
    "         aspects, such as architectural style, number of bedrooms/bathrooms, \n",
    "         special amenities, outdoor spaces, and the general aesthetic. \n",
    "         Paint a vivid picture that showcases the home's best assets and makes \n",
    "         potential buyers/renters eager to see it in person. Keep the tone professional \n",
    "         yet inviting, focusing on facts over opinion. \n",
    "         The goal is to provide an accurate yet enticing description that generates \n",
    "         interest in the listing.\n",
    "\n",
    "         <property_ad_desc>\n",
    "         {property_ad_desc}\n",
    "         <property_ad_desc>\n",
    "\n",
    "         Image Labels:\n",
    "\n",
    "         <labels>\n",
    "         {image}\n",
    "         <labels>\n",
    "         \"\"\" }\n",
    "    ],\n",
    "}\n",
    "\n",
    "# Create messages Payload\n",
    "message_list.append(image_message)\n",
    "\n",
    "# Call Model; e.g. anthropic.claude-3-5-haiku-20241022-v1:0, anthropic.claude-3-sonnet-20240229-v1:0\n",
    "response = bedrock.converse(\n",
    "    modelId=\"anthropic.claude-3-sonnet-20240229-v1:0\",\n",
    "    messages=message_list,\n",
    "    inferenceConfig={\n",
    "        \"maxTokens\": 2000,\n",
    "        \"temperature\": 0\n",
    "    },\n",
    ")"
   ]
  },
  {
   "cell_type": "code",
   "execution_count": 3,
   "metadata": {},
   "outputs": [
    {
     "name": "stdout",
     "output_type": "stream",
     "text": [
      "('Cette propriété de luxe offre un style architectural moderne et épuré avec '\n",
      " 'de grandes baies vitrées donnant sur un magnifique espace extérieur. La '\n",
      " 'maison semble spacieuse et lumineuse, avec un design minimaliste et des '\n",
      " \"finitions haut de gamme. L'extérieur comprend une grande piscine à \"\n",
      " 'débordement, un espace de vie extérieur avec un coin repas ombragé et des '\n",
      " \"chaises longues pour profiter du soleil. L'aménagement paysager est soigné \"\n",
      " \"avec des arbres matures apportant de l'intimité. Cette propriété haut de \"\n",
      " 'gamme allie élégance, confort et fonctionnalité dans un cadre idyllique, '\n",
      " 'parfait pour un mode de vie luxueux en plein air. Ses caractéristiques '\n",
      " 'attrayantes en font une résidence de rêve pour les amateurs de design '\n",
      " \"contemporain et d'espaces de vie ouverts sur la nature.\")\n"
     ]
    }
   ],
   "source": [
    "# Show status\n",
    "pp = pprint.PrettyPrinter(indent=4)\n",
    "pp.pprint(response['output']['message']['content'][0]['text'])"
   ]
  },
  {
   "cell_type": "code",
   "execution_count": null,
   "metadata": {},
   "outputs": [],
   "source": []
  }
 ],
 "metadata": {
  "kernelspec": {
   "display_name": ".venv",
   "language": "python",
   "name": "python3"
  },
  "language_info": {
   "codemirror_mode": {
    "name": "ipython",
    "version": 3
   },
   "file_extension": ".py",
   "mimetype": "text/x-python",
   "name": "python",
   "nbconvert_exporter": "python",
   "pygments_lexer": "ipython3",
   "version": "3.12.5"
  }
 },
 "nbformat": 4,
 "nbformat_minor": 2
}
