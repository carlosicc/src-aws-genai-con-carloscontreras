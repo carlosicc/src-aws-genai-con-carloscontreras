{
 "cells": [
  {
   "cell_type": "markdown",
   "metadata": {},
   "source": [
    "#### Dummy Confusion Matrix Calculator"
   ]
  },
  {
   "cell_type": "code",
   "execution_count": null,
   "metadata": {},
   "outputs": [],
   "source": [
    "def confusion_matrix_calculator(TP, FP, FN, TN):\n",
    "    \"\"\"\n",
    "    Calculate various metrics from confusion matrix values\n",
    "    TP: True Positives\n",
    "    FP: False Positives\n",
    "    FN: False Negatives\n",
    "    TN: True Negatives\n",
    "    \"\"\"\n",
    "    \n",
    "    # Basic calculations\n",
    "    total = TP + FP + FN + TN\n",
    "    \n",
    "    # Calculate metrics\n",
    "    accuracy = (TP + TN) / total\n",
    "    precision = TP / (TP + FP) if (TP + FP) != 0 else 0\n",
    "    recall = TP / (TP + FN) if (TP + FN) != 0 else 0\n",
    "    specificity = TN / (TN + FP) if (TN + FP) != 0 else 0\n",
    "    f1_score = 2 * (precision * recall) / (precision + recall) if (precision + recall) != 0 else 0\n",
    "    \n",
    "    # Print results\n",
    "    print(\"\\nConfusion Matrix Metrics:\")\n",
    "    print(f\"{'Accuracy:':<15} {accuracy:.3f}\")\n",
    "    print(f\"{'Precision:':<15} {precision:.3f}\")\n",
    "    print(f\"{'Recall:':<15} {recall:.3f}\")\n",
    "    print(f\"{'Specificity:':<15} {specificity:.3f}\")\n",
    "    print(f\"{'F1 Score:':<15} {f1_score:.3f}\")"
   ]
  },
  {
   "cell_type": "code",
   "execution_count": null,
   "metadata": {},
   "outputs": [],
   "source": [
    "# Emails:\n",
    "TP, FN, TN, FP = 80, 5, 7, 8\n",
    "confusion_matrix_calculator(TP, FP, FN, TN)"
   ]
  }
 ],
 "metadata": {
  "kernelspec": {
   "display_name": ".venv",
   "language": "python",
   "name": "python3"
  },
  "language_info": {
   "codemirror_mode": {
    "name": "ipython",
    "version": 3
   },
   "file_extension": ".py",
   "mimetype": "text/x-python",
   "name": "python",
   "nbconvert_exporter": "python",
   "pygments_lexer": "ipython3",
   "version": "3.12.5"
  }
 },
 "nbformat": 4,
 "nbformat_minor": 2
}
