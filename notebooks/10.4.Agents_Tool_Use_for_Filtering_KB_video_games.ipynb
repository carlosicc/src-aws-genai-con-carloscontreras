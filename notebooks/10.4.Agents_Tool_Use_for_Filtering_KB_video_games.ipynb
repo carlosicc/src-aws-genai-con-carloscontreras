{
 "cells": [
  {
   "cell_type": "markdown",
   "metadata": {},
   "source": [
    "## Dynamic Metadata Filtering for Knowledge Bases\n",
    "\n",
    "> Source: aws-samples complete [notebook here](https://github.com/aws-samples/rag-workshop-amazon-bedrock-knowledge-bases/blob/main/03-advanced-concepts/dynamic-metadata-filtering/dynamic-metadata-filtering-KB.ipynb)"
   ]
  },
  {
   "cell_type": "code",
   "execution_count": null,
   "metadata": {},
   "outputs": [],
   "source": [
    "import json\n",
    "import boto3\n",
    "from typing import List, Optional\n",
    "from pydantic import BaseModel, model_validator"
   ]
  },
  {
   "cell_type": "code",
   "execution_count": null,
   "metadata": {},
   "outputs": [],
   "source": [
    "# Session init\n",
    "session = boto3.session.Session()\n",
    "region = session.region_name\n",
    "bedrock = boto3.client(\"bedrock-runtime\", region_name=region)\n",
    "bedrock_agent_runtime = boto3.client(\"bedrock-agent-runtime\")\n",
    "\n",
    "MODEL_ID = \"anthropic.claude-3-haiku-20240307-v1:0\" "
   ]
  },
  {
   "cell_type": "markdown",
   "metadata": {},
   "source": [
    "### Define Pydantic Models\n",
    "We'll use Pydantic models to validate and structure our extracted entities:"
   ]
  },
  {
   "cell_type": "code",
   "execution_count": null,
   "metadata": {},
   "outputs": [],
   "source": [
    "class Entity(BaseModel):\n",
    "    Publisher: Optional[str]\n",
    "    Year: Optional[int]\n",
    "\n",
    "class ExtractedEntities(BaseModel):\n",
    "    entities: List[Entity]\n",
    "\n",
    "    @model_validator(mode='before')\n",
    "    def remove_duplicates(cls, values):\n",
    "        # Ensure `entities` is in the dictionary\n",
    "        if 'entities' in values:\n",
    "            unique_entities = []\n",
    "            seen = set()\n",
    "            for entity in values['entities']:\n",
    "                entity_tuple = tuple(sorted(entity.items()))\n",
    "                if entity_tuple not in seen:\n",
    "                    seen.add(entity_tuple)\n",
    "                    unique_entities.append(dict(entity_tuple))\n",
    "            values['entities'] = unique_entities\n",
    "        return values"
   ]
  },
  {
   "cell_type": "markdown",
   "metadata": {},
   "source": [
    "## Implement Entity Extraction using Tool Use\n",
    "We'll define a tool for entity extraction with very basic instructions and use it with Amazon Bedrock:\n"
   ]
  },
  {
   "cell_type": "code",
   "execution_count": null,
   "metadata": {},
   "outputs": [],
   "source": [
    "tool_name = \"extract_entities\"\n",
    "tool_description = \"Extract named entities from the text. If you are not 100% sure of the entity value, use 'unknown'.\"\n",
    "\n",
    "tool_extract_entities = [\"Publisher\", \"Year\"]\n",
    "tool_extract_property = [\"entities\"]\n",
    "\n",
    "tool_entity_description = {\n",
    "    \"Publisher\": {\"type\": \"string\", \"description\": \"The publisher of the game. First alphabet is upper case.\"},\n",
    "    \"Year\": {\"type\": \"integer\", \"description\": \"The year when the game was released.\"}\n",
    "}\n",
    "\n",
    "tool_properties = {\n",
    "    'tool_name':tool_name,\n",
    "    'tool_description':tool_description,\n",
    "    'tool_extract_entities':tool_extract_entities,\n",
    "    'tool_extract_property':tool_extract_property,\n",
    "    'tool_entity_description': tool_entity_description\n",
    "}\n",
    "\n",
    "def extract_entities(text, tool_properties):   \n",
    "    tools = [{\n",
    "            \"toolSpec\": {\n",
    "                \"name\": tool_properties['tool_name'],\n",
    "                \"description\": tool_properties['tool_description'],\n",
    "                \"inputSchema\": {\n",
    "                    \"json\": {\n",
    "                        \"type\": \"object\",\n",
    "                        \"properties\": {\n",
    "                            \"entities\": {\n",
    "                                \"type\": \"array\",\n",
    "                                \"items\": {\n",
    "                                    \"type\": \"object\",\n",
    "                                    \"properties\": tool_properties['tool_entity_description'],\n",
    "                                    \"required\": tool_properties['tool_extract_entities']\n",
    "                                }\n",
    "                            }\n",
    "                        },\n",
    "                        \"required\": tool_properties['tool_extract_property']\n",
    "                    }\n",
    "                }\n",
    "            }\n",
    "        }]\n",
    "    \n",
    "    response = bedrock.converse(\n",
    "        modelId=MODEL_ID,\n",
    "        inferenceConfig={\n",
    "            \"temperature\": 0,\n",
    "            \"maxTokens\": 4000\n",
    "        },\n",
    "        toolConfig={\"tools\": tools},\n",
    "        messages=[{\"role\": \"user\", \"content\": [{\"text\": text}]}]\n",
    "    )\n",
    "\n",
    "    json_entities = None\n",
    "    for content in response['output']['message']['content']:\n",
    "        if \"toolUse\" in content and content['toolUse']['name'] == \"extract_entities\":\n",
    "            json_entities = content['toolUse']['input']\n",
    "            break\n",
    "\n",
    "    if json_entities:\n",
    "        return ExtractedEntities.model_validate(json_entities)\n",
    "    else:\n",
    "        print(\"No entities found in the response.\")\n",
    "        return None"
   ]
  },
  {
   "cell_type": "markdown",
   "metadata": {},
   "source": [
    "## Construct Metadata Filter\n",
    "Now, let's create a function to construct the metadata filter based on the extracted entities:"
   ]
  },
  {
   "cell_type": "code",
   "execution_count": null,
   "metadata": {},
   "outputs": [],
   "source": [
    "def construct_metadata_filter(extracted_entities):\n",
    "    if not extracted_entities or not extracted_entities.entities:\n",
    "        return None\n",
    "\n",
    "    entity = extracted_entities.entities[0]\n",
    "    metadata_filter = {\"andAll\": []}\n",
    "\n",
    "    if entity.Publisher and entity.Publisher != 'unknown':\n",
    "        metadata_filter[\"andAll\"].append({\n",
    "            \"equals\": {\n",
    "                \"key\": \"Publisher\",\n",
    "                \"value\": entity.Publisher\n",
    "            }\n",
    "        })\n",
    "\n",
    "    if entity.Year and entity.Year != 'unknown':\n",
    "        metadata_filter[\"andAll\"].append({\n",
    "            \"greaterThanOrEquals\": {\n",
    "                \"key\": \"Year\",\n",
    "                \"value\": int(entity.Year)\n",
    "            }\n",
    "        })\n",
    "\n",
    "    return metadata_filter if metadata_filter[\"andAll\"] else None"
   ]
  },
  {
   "cell_type": "markdown",
   "metadata": {},
   "source": [
    "## Example"
   ]
  },
  {
   "cell_type": "code",
   "execution_count": null,
   "metadata": {},
   "outputs": [],
   "source": [
    "text=\"Provide a list of all video games published by Rockstar Games and released after 2010\"\n",
    "extracted_entities = extract_entities(text, tool_properties)\n",
    "metadata_filter = construct_metadata_filter(extracted_entities)\n",
    "print('Here is the prepared metadata filters:')\n",
    "print(metadata_filter)"
   ]
  },
  {
   "cell_type": "markdown",
   "metadata": {},
   "source": [
    "---\n",
    "### Finalmente, podemos llamar la API de Retrieve con los nuevos filtros:\n",
    "> e.g.\n",
    "```python\n",
    "def process_query(text, tool_properties):\n",
    "    extracted_entities = extract_entities(text, tool_properties)\n",
    "    metadata_filter = construct_metadata_filter(extracted_entities)\n",
    "    print('Here is the prepared metadata filters:')\n",
    "    print(metadata_filter)\n",
    "\n",
    "    response = bedrock_agent_runtime.retrieve(\n",
    "        knowledgeBaseId=kb_id,\n",
    "        retrievalConfiguration={\n",
    "            \"vectorSearchConfiguration\": {\n",
    "                \"filter\": metadata_filter\n",
    "            }\n",
    "        },\n",
    "        retrievalQuery={\n",
    "            'text': text\n",
    "        }\n",
    "    )\n",
    "    return response\n",
    "```"
   ]
  },
  {
   "cell_type": "markdown",
   "metadata": {},
   "source": []
  }
 ],
 "metadata": {
  "kernelspec": {
   "display_name": ".venv",
   "language": "python",
   "name": "python3"
  },
  "language_info": {
   "codemirror_mode": {
    "name": "ipython",
    "version": 3
   },
   "file_extension": ".py",
   "mimetype": "text/x-python",
   "name": "python",
   "nbconvert_exporter": "python",
   "pygments_lexer": "ipython3",
   "version": "3.12.5"
  }
 },
 "nbformat": 4,
 "nbformat_minor": 2
}
