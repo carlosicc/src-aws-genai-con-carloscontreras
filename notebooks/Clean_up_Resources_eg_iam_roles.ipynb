{
 "cells": [
  {
   "cell_type": "markdown",
   "metadata": {},
   "source": [
    "### Clean up resources"
   ]
  },
  {
   "cell_type": "code",
   "execution_count": null,
   "metadata": {},
   "outputs": [],
   "source": [
    "import boto3"
   ]
  },
  {
   "cell_type": "markdown",
   "metadata": {},
   "source": [
    "### This deletes all IAM policies beginning with X"
   ]
  },
  {
   "cell_type": "code",
   "execution_count": null,
   "metadata": {},
   "outputs": [],
   "source": [
    "def delete_policies_with_prefixes(policy_prefixes):\n",
    "    \"\"\"\n",
    "    Delete IAM policies that start with specified prefixes\n",
    "    \"\"\"\n",
    "    iam = boto3.client('iam')\n",
    "    \n",
    "    try:\n",
    "        # List all policies\n",
    "        paginator = iam.get_paginator('list_policies')\n",
    "        \n",
    "        # We only want customer managed policies (not AWS managed)\n",
    "        page_iterator = paginator.paginate(Scope='Local')\n",
    "        \n",
    "        for page in page_iterator:\n",
    "            for policy in page['Policies']:\n",
    "                policy_name = policy['PolicyName']\n",
    "                policy_arn = policy['Arn']\n",
    "                \n",
    "                # Check if policy name starts with any of the given prefixes\n",
    "                if any(policy_name.startswith(prefix) for prefix in policy_prefixes):\n",
    "                    try:\n",
    "                        # First, delete all versions except the default version\n",
    "                        versions = iam.list_policy_versions(PolicyArn=policy_arn)['Versions']\n",
    "                        for version in versions:\n",
    "                            if not version['IsDefaultVersion']:\n",
    "                                iam.delete_policy_version(\n",
    "                                    PolicyArn=policy_arn,\n",
    "                                    VersionId=version['VersionId']\n",
    "                                )\n",
    "                        \n",
    "                        # Then delete the policy itself\n",
    "                        iam.delete_policy(PolicyArn=policy_arn)\n",
    "                        print(f\"Successfully deleted policy: {policy_name}\")\n",
    "                        \n",
    "                    except iam.exceptions.DeleteConflictException:\n",
    "                        print(f\"Could not delete {policy_name} - policy is attached to users/roles\")\n",
    "                    except Exception as e:\n",
    "                        print(f\"Error deleting {policy_name}: {str(e)}\")\n",
    "                        \n",
    "    except Exception as e:\n",
    "        print(f\"Error: {str(e)}\")"
   ]
  },
  {
   "cell_type": "code",
   "execution_count": null,
   "metadata": {},
   "outputs": [],
   "source": [
    "# Usage example\n",
    "prefixes_to_delete = [\n",
    "    \"KnowledgeBaseQuickCreateAurora\"\n",
    "]\n",
    "\n",
    "delete_policies_with_prefixes(prefixes_to_delete)"
   ]
  },
  {
   "cell_type": "markdown",
   "metadata": {},
   "source": [
    "### This deletes all IAM policies beginning with X, that are not attached to any IAM Role"
   ]
  },
  {
   "cell_type": "code",
   "execution_count": null,
   "metadata": {},
   "outputs": [],
   "source": [
    "import boto3\n",
    "from botocore.exceptions import ClientError\n",
    "\n",
    "def get_policies_by_prefix(prefix):\n",
    "    \"\"\"Get all customer-managed policies that start with the given prefix\"\"\"\n",
    "    iam = boto3.client('iam')\n",
    "    policies = []\n",
    "    \n",
    "    try:\n",
    "        paginator = iam.get_paginator('list_policies')\n",
    "        # Scope: Local means customer-managed policies only (not AWS-managed)\n",
    "        for page in paginator.paginate(Scope='Local'):\n",
    "            for policy in page['Policies']:\n",
    "                if policy['PolicyName'].startswith(prefix):\n",
    "                    print(f\"Checking if policy: {policy['PolicyName']} is attached to a Role\")                \n",
    "                    policies.append({\n",
    "                        'PolicyArn': policy['Arn'],\n",
    "                        'PolicyName': policy['PolicyName']\n",
    "                    })\n",
    "    except ClientError as e:\n",
    "        print(f\"Error listing policies: {e}\")\n",
    "        return []\n",
    "        \n",
    "    return policies\n",
    "\n",
    "def is_policy_attached(policy_arn):\n",
    "    \"\"\"Check if policy is attached to any IAM role\"\"\"\n",
    "    iam = boto3.client('iam')\n",
    "    \n",
    "    try:\n",
    "        # Get the number of entities (roles, users, groups) the policy is attached to\n",
    "        response = iam.get_policy(PolicyArn=policy_arn)\n",
    "        attachment_count = response['Policy']['AttachmentCount']\n",
    "        return attachment_count > 0\n",
    "    except ClientError as e:\n",
    "        print(f\"Error checking policy attachment: {e}\")\n",
    "        return True  # Return True as a safety measure\n",
    "\n",
    "def delete_unattached_policies(prefix):\n",
    "    \"\"\"Delete all unattached policies that start with the given prefix\"\"\"\n",
    "    iam = boto3.client('iam')\n",
    "    policies = get_policies_by_prefix(prefix)\n",
    "    \n",
    "    if not policies:\n",
    "        print(f\"No policies found with prefix '{prefix}'\")\n",
    "        return\n",
    "    \n",
    "    for policy in policies:\n",
    "        policy_arn = policy['PolicyArn']\n",
    "        policy_name = policy['PolicyName']\n",
    "        \n",
    "        if not is_policy_attached(policy_arn):\n",
    "            try:\n",
    "                # If Policy has N versions\n",
    "                versions = iam.list_policy_versions(PolicyArn=policy_arn)['Versions']\n",
    "                for version in versions:\n",
    "                    if not version['IsDefaultVersion']:\n",
    "                        print(f\"Deleting version {version['VersionId']} of policy {policy_name}\")\n",
    "                        iam.delete_policy_version(PolicyArn=policy_arn, VersionId=version['VersionId'])\n",
    "                \n",
    "                # Delete IAM policy       \n",
    "                iam.delete_policy(PolicyArn=policy_arn)\n",
    "                print(f\"Successfully deleted unattached policy: {policy_name}\")\n",
    "            \n",
    "            except ClientError as e:\n",
    "                print(f\"Error deleting policy {policy_name}: {e}\")\n",
    "        else:\n",
    "            print(f\"Policy {policy_name} is attached to one or more entities - skipping deletion\")"
   ]
  },
  {
   "cell_type": "code",
   "execution_count": null,
   "metadata": {},
   "outputs": [],
   "source": [
    "# Usage\n",
    "if __name__ == \"__main__\":\n",
    "    prefix = \"bedrock\"\n",
    "    print(f\"Searching for unattached policies with prefix '{prefix}'...\")\n",
    "    delete_unattached_policies(prefix)\n"
   ]
  }
 ],
 "metadata": {
  "kernelspec": {
   "display_name": ".venv",
   "language": "python",
   "name": "python3"
  },
  "language_info": {
   "codemirror_mode": {
    "name": "ipython",
    "version": 3
   },
   "file_extension": ".py",
   "mimetype": "text/x-python",
   "name": "python",
   "nbconvert_exporter": "python",
   "pygments_lexer": "ipython3",
   "version": "3.12.5"
  }
 },
 "nbformat": 4,
 "nbformat_minor": 2
}
