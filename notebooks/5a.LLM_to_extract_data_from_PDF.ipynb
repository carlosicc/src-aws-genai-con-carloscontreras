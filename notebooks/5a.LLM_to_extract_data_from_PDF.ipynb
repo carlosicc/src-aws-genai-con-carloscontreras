{
 "cells": [
  {
   "cell_type": "markdown",
   "metadata": {},
   "source": [
    "### Interroga tus documentos PDF!\n",
    "> Recuerda de ver el video de LangChain y cómo almacenar FAISS localmente, si quieres ver PDFs como Vector Stores"
   ]
  },
  {
   "cell_type": "code",
   "execution_count": 28,
   "metadata": {},
   "outputs": [],
   "source": [
    "import boto3"
   ]
  },
  {
   "cell_type": "code",
   "execution_count": 29,
   "metadata": {},
   "outputs": [],
   "source": [
    "# SDK init\n",
    "session = boto3.Session()\n",
    "bedrock = session.client(service_name='bedrock-runtime')"
   ]
  },
  {
   "cell_type": "markdown",
   "metadata": {},
   "source": [
    "### Pregunta 1:"
   ]
  },
  {
   "cell_type": "code",
   "execution_count": 30,
   "metadata": {},
   "outputs": [],
   "source": [
    "# User question\n",
    "user_question = \"\"\"Based on the document, for a TV size 65-75 inches, \n",
    "                    what is the standard crew I need to use to mount this TV on wall?\"\"\""
   ]
  },
  {
   "cell_type": "code",
   "execution_count": 31,
   "metadata": {},
   "outputs": [],
   "source": [
    "with open(\"data/pdf/p7-9-Doc_2018_UserManual_Q9FNSeries.pdf\", \"rb\") as doc_file:\n",
    "    doc_bytes = doc_file.read()\n",
    "\n",
    "doc_message = {\n",
    "    \"role\": \"user\",\n",
    "    \"content\": [\n",
    "        {\n",
    "            \"document\": {\n",
    "                \"name\": \"Document 1\",\n",
    "                \"format\": \"pdf\",\n",
    "                \"source\": {\n",
    "                    \"bytes\": doc_bytes\n",
    "                }\n",
    "            }\n",
    "        },\n",
    "        { \"text\": user_question }\n",
    "    ]\n",
    "}\n"
   ]
  },
  {
   "cell_type": "markdown",
   "metadata": {},
   "source": [
    "> IMPORTANTE!! Confirma que el modelo esté disponible en tu región"
   ]
  },
  {
   "cell_type": "code",
   "execution_count": 32,
   "metadata": {},
   "outputs": [],
   "source": [
    "response = bedrock.converse(\n",
    "    modelId=\"anthropic.claude-3-5-haiku-20241022-v1:0\",\n",
    "    messages=[doc_message],\n",
    "    inferenceConfig={\n",
    "        \"maxTokens\": 2000,\n",
    "        \"temperature\": 0\n",
    "    },\n",
    ")\n"
   ]
  },
  {
   "cell_type": "code",
   "execution_count": null,
   "metadata": {},
   "outputs": [],
   "source": [
    "response_text = response['output']['message']['content'][0]['text']\n",
    "print(response_text)"
   ]
  },
  {
   "cell_type": "markdown",
   "metadata": {},
   "source": [
    "#### Pregunta 2:"
   ]
  },
  {
   "cell_type": "code",
   "execution_count": 34,
   "metadata": {},
   "outputs": [],
   "source": [
    "# User question\n",
    "user_question = \"\"\"Based on the document, obtain the table from section called 'Mounting the TV on a wall'\n",
    "                The table contains the following columns, which are separated by commas below: \n",
    "                <columns>TV size in inches,VESA screw hole specs,C (mm),Standard Screw,Pitch (mm),Quantity</columns>\n",
    "                Return only the following JSON structure, with the keys for those columns in the same order, \n",
    "                replacing the values from the ones in the table from the document:\n",
    "                <json>\n",
    "                {\n",
    "                    \"tv_size\": \"value\",\n",
    "                    \"vesa_screw\": \"value\",\n",
    "                    \"c_in_mm\": \"value\",\n",
    "                    \"standard_screw\": \"value\",\n",
    "                    \"pitch_in_mm\": \"value\",\n",
    "                    \"quantity\": \"value\"\n",
    "                }\n",
    "                </json>\n",
    "                \"\"\""
   ]
  },
  {
   "cell_type": "code",
   "execution_count": 35,
   "metadata": {},
   "outputs": [],
   "source": [
    "with open(\"data/pdf/p7-9-Doc_2018_UserManual_Q9FNSeries.pdf\", \"rb\") as doc_file:\n",
    "    doc_bytes = doc_file.read()\n",
    "\n",
    "doc_message = {\n",
    "    \"role\": \"user\",\n",
    "    \"content\": [\n",
    "        {\n",
    "            \"document\": {\n",
    "                \"name\": \"Document 1\",\n",
    "                \"format\": \"pdf\",\n",
    "                \"source\": {\n",
    "                    \"bytes\": doc_bytes\n",
    "                }\n",
    "            }\n",
    "        },\n",
    "        { \"text\": user_question }\n",
    "    ]\n",
    "}"
   ]
  },
  {
   "cell_type": "code",
   "execution_count": 36,
   "metadata": {},
   "outputs": [],
   "source": [
    "response = bedrock.converse(\n",
    "    modelId=\"anthropic.claude-3-5-haiku-20241022-v1:0\",\n",
    "    messages=[doc_message],\n",
    "    inferenceConfig={\n",
    "        \"maxTokens\": 2000,\n",
    "        \"temperature\": 0\n",
    "    },\n",
    ")"
   ]
  },
  {
   "cell_type": "code",
   "execution_count": null,
   "metadata": {},
   "outputs": [],
   "source": [
    "response_text = response['output']['message']['content'][0]['text']\n",
    "print(response_text)"
   ]
  }
 ],
 "metadata": {
  "kernelspec": {
   "display_name": ".venv",
   "language": "python",
   "name": "python3"
  },
  "language_info": {
   "codemirror_mode": {
    "name": "ipython",
    "version": 3
   },
   "file_extension": ".py",
   "mimetype": "text/x-python",
   "name": "python",
   "nbconvert_exporter": "python",
   "pygments_lexer": "ipython3",
   "version": "3.12.5"
  }
 },
 "nbformat": 4,
 "nbformat_minor": 2
}
