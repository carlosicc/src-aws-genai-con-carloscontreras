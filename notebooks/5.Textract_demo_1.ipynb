{
 "cells": [
  {
   "cell_type": "markdown",
   "metadata": {},
   "source": [
    "See more at: \n",
    "- https://github.com/aws-samples/amazon-textract-textractor\n",
    "- https://aws-samples.github.io/amazon-textract-textractor/"
   ]
  },
  {
   "cell_type": "code",
   "execution_count": null,
   "metadata": {},
   "outputs": [],
   "source": [
    "import os\n",
    "import pandas as pd\n",
    "from textractor import Textractor\n",
    "from textractor.data.constants import TextractFeatures\n",
    "from IPython.display import Markdown"
   ]
  },
  {
   "cell_type": "code",
   "execution_count": null,
   "metadata": {},
   "outputs": [],
   "source": [
    "# Start Amazon Extract, through wrapper\n",
    "extractor = Textractor(region_name=\"us-west-2\", profile_name=\"pp-genai\")"
   ]
  },
  {
   "cell_type": "markdown",
   "metadata": {},
   "source": [
    "## IMPORTANTE: \n",
    "> Deshabilita (save_image=False) si tu laptop tiene problemas con \"save_image\""
   ]
  },
  {
   "cell_type": "code",
   "execution_count": null,
   "metadata": {},
   "outputs": [],
   "source": [
    "# Analyze document\n",
    "# e.g. pdf_samples/p7-9-Doc_2018_UserManual_Q9FNSeries.pdf, images/recibo_aeropuerto.jpg\n",
    "file = \"images/recibo_aeropuerto.jpg\"\n",
    "document = extractor.start_document_analysis(\n",
    "    file_source=f\"s3://genai-carlos-contreras-bucket-data-quarks-labs-oregon-01/data/{file}\",\n",
    "    features=[\n",
    "        TextractFeatures.TABLES,\n",
    "        TextractFeatures.LAYOUT,\n",
    "        TextractFeatures.FORMS\n",
    "    ],\n",
    "    save_image=True\n",
    ")"
   ]
  },
  {
   "cell_type": "code",
   "execution_count": null,
   "metadata": {},
   "outputs": [],
   "source": [
    "Markdown(document.to_markdown())"
   ]
  },
  {
   "cell_type": "code",
   "execution_count": null,
   "metadata": {},
   "outputs": [],
   "source": [
    "# Visualize Document Layouts\n",
    "document.pages[0].visualize()"
   ]
  },
  {
   "cell_type": "markdown",
   "metadata": {},
   "source": [
    "#### Begin: Procesado de Recibos"
   ]
  },
  {
   "cell_type": "code",
   "execution_count": null,
   "metadata": {},
   "outputs": [],
   "source": [
    "# Visualize Document Layouts\n",
    "document.pages[0].key_values"
   ]
  },
  {
   "cell_type": "code",
   "execution_count": null,
   "metadata": {},
   "outputs": [],
   "source": [
    "# Get KV pairs; e.g. document.key_values\n",
    "receipt_kv = [{'key':str(kv.key), 'value':str(kv.value)} for kv in document.key_values]"
   ]
  },
  {
   "cell_type": "code",
   "execution_count": null,
   "metadata": {},
   "outputs": [],
   "source": [
    "receipt_kv"
   ]
  },
  {
   "cell_type": "code",
   "execution_count": null,
   "metadata": {},
   "outputs": [],
   "source": [
    "print(receipt_kv[0]['value'])"
   ]
  },
  {
   "cell_type": "code",
   "execution_count": null,
   "metadata": {},
   "outputs": [],
   "source": [
    "# Export the key-values as csv, to Amazon S3\n",
    "document.export_kv_to_csv(\n",
    "    include_kv=True,\n",
    "    include_checkboxes=False,\n",
    "    filepath=os.path.join(\"data/receipts/receipt_1.csv\")\n",
    ")"
   ]
  },
  {
   "cell_type": "code",
   "execution_count": null,
   "metadata": {},
   "outputs": [],
   "source": [
    "# Read CSV into a DF\n",
    "df_key_values = pd.read_csv(\"data/receipts/receipt_1.csv\", sep=\";\")"
   ]
  },
  {
   "cell_type": "code",
   "execution_count": null,
   "metadata": {},
   "outputs": [],
   "source": [
    "# Rows to Columns\n",
    "df_raw = pd.pivot_table(df_key_values, values='Value', columns='Key', aggfunc=\"sum\")"
   ]
  },
  {
   "cell_type": "code",
   "execution_count": null,
   "metadata": {},
   "outputs": [],
   "source": [
    "df_raw.info()"
   ]
  },
  {
   "cell_type": "code",
   "execution_count": null,
   "metadata": {},
   "outputs": [],
   "source": [
    "df_raw['IMPORTE'].head()"
   ]
  },
  {
   "cell_type": "markdown",
   "metadata": {},
   "source": [
    "#### End: Procesado de Recibos"
   ]
  },
  {
   "cell_type": "markdown",
   "metadata": {},
   "source": [
    "---\n",
    "### Example of ETL with PDF, before ingesting these docs into the KB"
   ]
  },
  {
   "cell_type": "code",
   "execution_count": null,
   "metadata": {},
   "outputs": [],
   "source": [
    "layouts = []\n",
    "\n",
    "for page in document.pages:\n",
    "    for layout in page.layouts:\n",
    "        match layout.layout_type:\n",
    "            case \"LAYOUT_TABLE\" | \"LAYOUT_TITLE\" | \"LAYOUT_TEXT\":\n",
    "                print(f\"Layout found: {layout.layout_type}\")\n",
    "                layouts.append({\n",
    "                    \"page_num\": page.page_num,\n",
    "                    \"text\": layout.to_markdown()\n",
    "                })\n",
    "            case _:\n",
    "                print(f\"Unsupported layout type: {layout.layout_type}\")\n",
    "                pass"
   ]
  },
  {
   "cell_type": "code",
   "execution_count": null,
   "metadata": {},
   "outputs": [],
   "source": [
    "layouts"
   ]
  },
  {
   "cell_type": "code",
   "execution_count": null,
   "metadata": {},
   "outputs": [],
   "source": []
  }
 ],
 "metadata": {
  "kernelspec": {
   "display_name": ".venv",
   "language": "python",
   "name": "python3"
  },
  "language_info": {
   "codemirror_mode": {
    "name": "ipython",
    "version": 3
   },
   "file_extension": ".py",
   "mimetype": "text/x-python",
   "name": "python",
   "nbconvert_exporter": "python",
   "pygments_lexer": "ipython3",
   "version": "3.12.5"
  }
 },
 "nbformat": 4,
 "nbformat_minor": 2
}
