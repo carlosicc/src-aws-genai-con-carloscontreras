{
 "cells": [
  {
   "cell_type": "code",
   "execution_count": null,
   "metadata": {},
   "outputs": [],
   "source": [
    "import boto3\n",
    "from pprint import pprint"
   ]
  },
  {
   "cell_type": "markdown",
   "metadata": {},
   "source": [
    "### Prerequisito: Crear versión de Guardrail"
   ]
  },
  {
   "cell_type": "code",
   "execution_count": null,
   "metadata": {},
   "outputs": [],
   "source": [
    "# SDK\n",
    "bedrock_client = boto3.client('bedrock')\n",
    "bedrock_runtime = boto3.client('bedrock-runtime')"
   ]
  },
  {
   "cell_type": "code",
   "execution_count": null,
   "metadata": {},
   "outputs": [],
   "source": [
    "# Our Guardrail ID - CHANGE ME\n",
    "guardrail_id = \"qx2mggr6cvk5\""
   ]
  },
  {
   "cell_type": "code",
   "execution_count": null,
   "metadata": {},
   "outputs": [],
   "source": [
    "# Create Version\n",
    "response = bedrock_client.create_guardrail_version(\n",
    "    guardrailIdentifier=guardrail_id,\n",
    "    description='Bloqueamos preguntas sobre Salarios y temas distintos a RRHH'\n",
    ")"
   ]
  },
  {
   "cell_type": "code",
   "execution_count": null,
   "metadata": {},
   "outputs": [],
   "source": [
    "pprint(response)"
   ]
  },
  {
   "cell_type": "code",
   "execution_count": null,
   "metadata": {},
   "outputs": [],
   "source": [
    "# Get Guardrail version\n",
    "guardrail_version = response.get(\"version\")"
   ]
  },
  {
   "cell_type": "markdown",
   "metadata": {},
   "source": [
    "#### Probamos Guardrail"
   ]
  },
  {
   "cell_type": "code",
   "execution_count": null,
   "metadata": {},
   "outputs": [],
   "source": [
    "# Elige tu modelo, acorde a tu región: https://docs.aws.amazon.com/bedrock/latest/userguide/models-supported.html \n",
    "model_id = \"anthropic.claude-3-5-haiku-20241022-v1:0\""
   ]
  },
  {
   "cell_type": "code",
   "execution_count": null,
   "metadata": {},
   "outputs": [],
   "source": [
    "def ask_hr_chatbot(system_prompt, user_prompt, model_id, guardrail_id, guardrail_version):\n",
    "  \"\"\"_summary_\n",
    "\n",
    "  Args:\n",
    "      system_prompt (_type_): _description_\n",
    "      user_prompt (_type_): _description_\n",
    "      model_id (_type_): _description_\n",
    "      guardrail_id (_type_): _description_\n",
    "      guardrail_version (_type_): _description_\n",
    "\n",
    "  Returns:\n",
    "      _type_: _description_\n",
    "  \"\"\"\n",
    "  response = bedrock_runtime.converse(\n",
    "                modelId=model_id,\n",
    "                system=[{\n",
    "                  \"text\": system_prompt\n",
    "                }],\n",
    "                messages=[{\n",
    "                  \"role\": \"user\",\n",
    "                  \"content\": [{\"text\": user_prompt}]\n",
    "                }],\n",
    "                inferenceConfig={\n",
    "                    \"maxTokens\": 4096,\n",
    "                    \"temperature\": 0.5\n",
    "                },\n",
    "                guardrailConfig={\n",
    "                  'guardrailIdentifier': guardrail_id,\n",
    "                  'guardrailVersion': guardrail_version,\n",
    "                  'trace': 'enabled'\n",
    "              }\n",
    "            )\n",
    "  \n",
    "  return response"
   ]
  },
  {
   "cell_type": "code",
   "execution_count": null,
   "metadata": {},
   "outputs": [],
   "source": [
    "# System Prompt\n",
    "system_prompt = \"You are a Human Resource assistant from our company.\"\n",
    "\n",
    "# Question\n",
    "user_prompt = \"How much my colleague Justin earns per month?\""
   ]
  },
  {
   "cell_type": "code",
   "execution_count": null,
   "metadata": {},
   "outputs": [],
   "source": [
    "response = ask_hr_chatbot(\n",
    "    system_prompt=system_prompt,\n",
    "    user_prompt=user_prompt,\n",
    "    model_id=model_id,\n",
    "    guardrail_id=guardrail_id,\n",
    "    guardrail_version=guardrail_version\n",
    ")"
   ]
  },
  {
   "cell_type": "code",
   "execution_count": null,
   "metadata": {},
   "outputs": [],
   "source": [
    "pprint(response['output']['message']['content'][0]['text'])\n",
    "print(\"\\n\"+\"#\"*150+\"\\n\")\n",
    "pprint(response['trace'])"
   ]
  },
  {
   "cell_type": "code",
   "execution_count": null,
   "metadata": {},
   "outputs": [],
   "source": [
    "# Question\n",
    "user_prompt = \"How can I improve my health habits, to improve my daily routines?\""
   ]
  },
  {
   "cell_type": "code",
   "execution_count": null,
   "metadata": {},
   "outputs": [],
   "source": [
    "response = ask_hr_chatbot(\n",
    "    system_prompt=system_prompt,\n",
    "    user_prompt=user_prompt,\n",
    "    model_id=model_id,\n",
    "    guardrail_id=guardrail_id,\n",
    "    guardrail_version=guardrail_version\n",
    ")"
   ]
  },
  {
   "cell_type": "code",
   "execution_count": null,
   "metadata": {},
   "outputs": [],
   "source": [
    "pprint(response['output']['message']['content'][0]['text'])\n",
    "print(\"\\n\"+\"#\"*150+\"\\n\")\n",
    "pprint(response['trace'])"
   ]
  },
  {
   "cell_type": "markdown",
   "metadata": {},
   "source": [
    "#### Contextual Grounding"
   ]
  },
  {
   "cell_type": "code",
   "execution_count": null,
   "metadata": {},
   "outputs": [],
   "source": [
    "def ask_hr_chatbot_with_grounding(system_prompt, user_prompt, model_id, kb_retrieved_chunks, \n",
    "                                  guardrail_id, guardrail_version):\n",
    "  \"\"\"_summary_\n",
    "\n",
    "  Args:\n",
    "      system_prompt (_type_): _description_\n",
    "      user_prompt (_type_): _description_\n",
    "      model_id (_type_): _description_\n",
    "      kb_retrieved_chunks (_type_): _description_\n",
    "      guardrail_id (_type_): _description_\n",
    "      guardrail_version (_type_): _description_\n",
    "\n",
    "  Returns:\n",
    "      _type_: _description_\n",
    "  \"\"\"\n",
    "  response = bedrock_runtime.converse(\n",
    "    modelId=model_id,\n",
    "    system=[{\n",
    "      \"text\": system_prompt\n",
    "    }],\n",
    "    messages=[\n",
    "    {\n",
    "        \"role\": \"user\",\n",
    "        \"content\": [\n",
    "            {\n",
    "                \"guardContent\": {\n",
    "                    \"text\": {\n",
    "                        \"text\": kb_retrieved_chunks,\n",
    "                        \"qualifiers\": [\"grounding_source\"],\n",
    "                    }\n",
    "                }\n",
    "            },\n",
    "            {\n",
    "                \"guardContent\": {\n",
    "                    \"text\": {\n",
    "                        \"text\": user_prompt,\n",
    "                        \"qualifiers\": [\"query\"],\n",
    "                    }\n",
    "                }\n",
    "            },\n",
    "        ],\n",
    "        }\n",
    "    ],\n",
    "    inferenceConfig={\n",
    "    \"maxTokens\": 4096,\n",
    "    \"temperature\": 0.5\n",
    "    },\n",
    "    guardrailConfig={\n",
    "        \"guardrailIdentifier\": guardrail_id,\n",
    "        \"guardrailVersion\": guardrail_version,\n",
    "        \"trace\": \"enabled\"\n",
    "        }\n",
    "    )\n",
    "\n",
    "  return response"
   ]
  },
  {
   "cell_type": "code",
   "execution_count": null,
   "metadata": {},
   "outputs": [],
   "source": [
    "# Question\n",
    "user_prompt = \"Who is Leonel Messi from our company?\"\n",
    "\n",
    "# System Prompt\n",
    "system_prompt = \"\"\"\n",
    "You are a virtual assistant in Data Quarks Labs. \n",
    "Respond company-related questions, including information from our wiki, perks or holidays.\n",
    "\"\"\"\n",
    "\n",
    "# Knowledge Base Retrieval\n",
    "kb_retrieved_chunks = \"\"\"Leonel Messi Contreras is the president of our company, Data Quarks Labs, \n",
    "which is a company that offers AI & Data services. \n",
    "We offer vacations of 35 days for all our employees.\"\"\""
   ]
  },
  {
   "cell_type": "code",
   "execution_count": null,
   "metadata": {},
   "outputs": [],
   "source": [
    "response = ask_hr_chatbot_with_grounding(\n",
    "    system_prompt=system_prompt,\n",
    "    user_prompt=user_prompt,\n",
    "    model_id=model_id,\n",
    "    kb_retrieved_chunks=kb_retrieved_chunks,\n",
    "    guardrail_id=guardrail_id,\n",
    "    guardrail_version=guardrail_version\n",
    ")"
   ]
  },
  {
   "cell_type": "code",
   "execution_count": null,
   "metadata": {},
   "outputs": [],
   "source": [
    "pprint(response['output']['message']['content'][0]['text'])\n",
    "print(\"\\n\"+\"#\"*150+\"\\n\")\n",
    "pprint(response['trace'])"
   ]
  },
  {
   "cell_type": "code",
   "execution_count": null,
   "metadata": {},
   "outputs": [],
   "source": [
    "# Question\n",
    "data_chunks = \"\"\"\n",
    "The document AUC-ROC, together with AUC-RWC, is created to highlight the policies related \n",
    "to the company car given to director roles.\n",
    "\"\"\"\n",
    "\n",
    "user_prompt = f\"\"\"Information relevant to answer question:\n",
    "<data_chunks>\n",
    "{data_chunks}\n",
    "</data_chunks>\n",
    "\n",
    "User question:\n",
    "<question>\n",
    "What is the AUC-ROC policy for?\n",
    "</question>\n",
    "\"\"\"\n",
    "\n",
    "# System Prompt\n",
    "system_prompt = \"\"\"\n",
    "You are an HR virtual assistant in Pharmaceutical X Labs.\"\"\"\n",
    "\n",
    "# Knowledge Base Retrieval\n",
    "kb_retrieved_chunks = \"\"\"Tech IT Message:\n",
    "The VPN must be used at all times when connecting from home.\n",
    "The laptop must be blocked at all times when not in use.\n",
    "\"\"\""
   ]
  },
  {
   "cell_type": "code",
   "execution_count": null,
   "metadata": {},
   "outputs": [],
   "source": [
    "response = ask_hr_chatbot_with_grounding(\n",
    "    system_prompt=system_prompt,\n",
    "    user_prompt=user_prompt,\n",
    "    model_id=model_id,\n",
    "    kb_retrieved_chunks=kb_retrieved_chunks,\n",
    "    guardrail_id=guardrail_id,\n",
    "    guardrail_version=guardrail_version\n",
    ")"
   ]
  },
  {
   "cell_type": "code",
   "execution_count": null,
   "metadata": {},
   "outputs": [],
   "source": [
    "pprint(response['output']['message']['content'][0]['text'])\n",
    "print(\"\\n\"+\"#\"*150+\"\\n\")\n",
    "pprint(response['trace'])"
   ]
  },
  {
   "cell_type": "markdown",
   "metadata": {},
   "source": [
    "---\n",
    "# No olvides borrar los Guardrails!"
   ]
  },
  {
   "cell_type": "code",
   "execution_count": null,
   "metadata": {},
   "outputs": [],
   "source": [
    "response = bedrock_client.delete_guardrail(\n",
    "    guardrailIdentifier=guardrail_id\n",
    ")\n",
    "print(response['ResponseMetadata']['HTTPStatusCode'])"
   ]
  },
  {
   "cell_type": "code",
   "execution_count": null,
   "metadata": {},
   "outputs": [],
   "source": []
  }
 ],
 "metadata": {
  "kernelspec": {
   "display_name": ".venv",
   "language": "python",
   "name": "python3"
  },
  "language_info": {
   "codemirror_mode": {
    "name": "ipython",
    "version": 3
   },
   "file_extension": ".py",
   "mimetype": "text/x-python",
   "name": "python",
   "nbconvert_exporter": "python",
   "pygments_lexer": "ipython3",
   "version": "3.12.5"
  }
 },
 "nbformat": 4,
 "nbformat_minor": 2
}
