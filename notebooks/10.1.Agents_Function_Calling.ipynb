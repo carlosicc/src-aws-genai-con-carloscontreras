{
 "cells": [
  {
   "cell_type": "markdown",
   "metadata": {},
   "source": [
    "## Lab: Function Calling, para lanzar consultas SQL a nuestra DB"
   ]
  },
  {
   "cell_type": "code",
   "execution_count": null,
   "metadata": {},
   "outputs": [],
   "source": [
    "import boto3\n",
    "import awswrangler as wr\n",
    "from pprint import pprint\n",
    "from utils.bedrock_utils import build_llm_query, chat_with_claude_nl_to_sql, format_pretty_output"
   ]
  },
  {
   "cell_type": "markdown",
   "metadata": {},
   "source": [
    "### Creamos rápidamente Tabla en Athena\n",
    "\n",
    "> Dataset source: https://www.kaggle.com/datasets/ihelon/coffee-sales"
   ]
  },
  {
   "cell_type": "code",
   "execution_count": null,
   "metadata": {},
   "outputs": [],
   "source": [
    "# Configure names\n",
    "table_name = 'coffee_shop_sales'\n",
    "s3_bucket = 'genai-carlos-contreras-bucket-data-quarks-labs-oregon-01'\n",
    "s3_key_path = f'datasets/{table_name}'\n",
    "s3_coffee_sales_file = f'datasets/{table_name}/{table_name}.csv'"
   ]
  },
  {
   "cell_type": "markdown",
   "metadata": {},
   "source": [
    "#### Creamos Base de Datos"
   ]
  },
  {
   "cell_type": "code",
   "execution_count": null,
   "metadata": {},
   "outputs": [],
   "source": [
    "db_name = \"db_coffee_shop_sales\"\n",
    "if \"db_coffee_shop_sales\" not in wr.catalog.databases().values:\n",
    "    wr.catalog.create_database(db_name)"
   ]
  },
  {
   "cell_type": "markdown",
   "metadata": {},
   "source": [
    "#### Subimos datos a S3"
   ]
  },
  {
   "cell_type": "code",
   "execution_count": null,
   "metadata": {},
   "outputs": [],
   "source": [
    "# Subimos datos o ya lo hicimos?\n",
    "upload_data = False"
   ]
  },
  {
   "cell_type": "code",
   "execution_count": null,
   "metadata": {},
   "outputs": [],
   "source": [
    "if upload_data:\n",
    "    # SDK\n",
    "    s3_client = boto3.client('s3')\n",
    "\n",
    "    # Upload the file to S3\n",
    "    response = s3_client.upload_file(f'data/sales_coffee/{table_name}.csv', \n",
    "                                    s3_bucket, \n",
    "                                    s3_coffee_sales_file)\n"
   ]
  },
  {
   "cell_type": "markdown",
   "metadata": {},
   "source": [
    "#### Creamos tabla\n",
    "> Source: [AWS SDK for Pandas](https://aws-sdk-pandas.readthedocs.io/en/stable/stubs/awswrangler.catalog.create_csv_table.html#awswrangler.catalog.create_csv_table)"
   ]
  },
  {
   "cell_type": "code",
   "execution_count": null,
   "metadata": {},
   "outputs": [],
   "source": [
    "# Creamos tabla o ya la creamos?\n",
    "create_table = False"
   ]
  },
  {
   "cell_type": "code",
   "execution_count": null,
   "metadata": {},
   "outputs": [],
   "source": [
    "if create_table:\n",
    "    wr.catalog.create_csv_table(\n",
    "        database=db_name,\n",
    "        table=table_name,\n",
    "        path=f's3://{s3_bucket}/{s3_key_path}/',\n",
    "        columns_types={'date': 'date', 'datetime': 'timestamp', 'cash_type':'string', 'card':'string', 'money':'double', 'coffee_name':'string'},\n",
    "        description='Coffee Shop Sales table',\n",
    "        skip_header_line_count=1,\n",
    "    )"
   ]
  },
  {
   "cell_type": "markdown",
   "metadata": {},
   "source": [
    "### Consultamos la tabla"
   ]
  },
  {
   "cell_type": "code",
   "execution_count": null,
   "metadata": {},
   "outputs": [],
   "source": [
    "%%time\n",
    "# Enable to run query!\n",
    "wr.athena.read_sql_query(f\"SELECT * FROM {table_name} LIMIT 10\", database=db_name, ctas_approach=False)"
   ]
  },
  {
   "cell_type": "markdown",
   "metadata": {},
   "source": [
    "> Note de [la documentación](https://aws-sdk-pandas.readthedocs.io/en/stable/stubs/awswrangler.athena.read_sql_query.html):\n",
    "\n",
    "Create the default Athena bucket if it doesn’t exist and s3_output is None.\n",
    "\n",
    "(e.g. s3://aws-athena-query-results-ACCOUNT-REGION/)"
   ]
  },
  {
   "cell_type": "code",
   "execution_count": null,
   "metadata": {},
   "outputs": [],
   "source": [
    "%%time\n",
    "# Enable to run query!\n",
    "# wr.athena.read_sql_query(f\"SELECT cash_type, round(avg(money),2) avg_spent,count() as num_events FROM {table_name} group by cash_type\", database=db_name, ctas_approach=False)"
   ]
  },
  {
   "cell_type": "markdown",
   "metadata": {},
   "source": [
    "## Function Calling\n",
    "\n",
    "### Definimos el cómo llamar a la función"
   ]
  },
  {
   "cell_type": "code",
   "execution_count": null,
   "metadata": {},
   "outputs": [],
   "source": [
    "##############################################################################\n",
    "# SQL Function Arguments for Function Calling feature\n",
    "##############################################################################\n",
    "\n",
    "# Schema definition for tool. No schema for now; i.e. call the Lambda with no args.\n",
    "get_tool_spec_sql = {\n",
    "        \"name\": \"run_query\",\n",
    "        \"description\": \"Run SQL to get details about our Coffee Shop sales.\",\n",
    "        \"inputSchema\": {\n",
    "             \"json\": {\n",
    "                \"type\": \"object\",\n",
    "                \"properties\": {\n",
    "                    \"sql_query\": {\n",
    "                        \"type\": \"string\",\n",
    "                        \"description\": f\"Ansi SQL statement to query table {table_name}.\"\n",
    "                    }\n",
    "                },\n",
    "                \"required\": [\"sql_query\"], \n",
    "            }\n",
    "        }\n",
    "    }\n",
    "\n",
    "\n",
    "toolConfig = {\n",
    "    'tools': [\n",
    "        {\n",
    "            'toolSpec': get_tool_spec_sql\n",
    "        }\n",
    "    ]\n",
    "}"
   ]
  },
  {
   "cell_type": "markdown",
   "metadata": {},
   "source": [
    "### Construimos pregunta con Tool"
   ]
  },
  {
   "cell_type": "code",
   "execution_count": null,
   "metadata": {},
   "outputs": [],
   "source": [
    "def ask_llm(question, toolConfig):\n",
    "    \n",
    "    # Build LLM query\n",
    "    messages = build_llm_query(questions=question,tools_instructions=toolConfig)\n",
    "\n",
    "    # Ask LLM to translate NL to SQL and to run it!\n",
    "    response = chat_with_claude_nl_to_sql(messages=messages, toolConfig=toolConfig, model_id = \"anthropic.claude-3-5-haiku-20241022-v1:0\")\n",
    "    \n",
    "    return response"
   ]
  },
  {
   "cell_type": "markdown",
   "metadata": {},
   "source": [
    "### Ask Claude"
   ]
  },
  {
   "cell_type": "code",
   "execution_count": null,
   "metadata": {},
   "outputs": [],
   "source": [
    "# Piensa en otras preguntas que puedas hacerle a LLM; i.e. Show sales by day, Show sales type of coffee, Show sales by cash or card...\n",
    "# i.e. How much did we sell in March 2024, by type of coffee? Provide a short business narrative of results\n",
    "response = ask_llm(question=\"How much did we sell in March 2024?\", toolConfig=toolConfig)"
   ]
  },
  {
   "cell_type": "code",
   "execution_count": null,
   "metadata": {},
   "outputs": [],
   "source": [
    "print(format_pretty_output(text=response['response'], width=120))"
   ]
  }
 ],
 "metadata": {
  "kernelspec": {
   "display_name": ".venv",
   "language": "python",
   "name": "python3"
  },
  "language_info": {
   "codemirror_mode": {
    "name": "ipython",
    "version": 3
   },
   "file_extension": ".py",
   "mimetype": "text/x-python",
   "name": "python",
   "nbconvert_exporter": "python",
   "pygments_lexer": "ipython3",
   "version": "3.12.5"
  }
 },
 "nbformat": 4,
 "nbformat_minor": 2
}
