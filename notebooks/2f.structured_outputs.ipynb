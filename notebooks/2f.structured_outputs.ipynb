{
 "cells": [
  {
   "cell_type": "markdown",
   "id": "ff846f0a",
   "metadata": {},
   "source": [
    "## Extracción de Datos de Manera Estructura"
   ]
  },
  {
   "cell_type": "code",
   "execution_count": null,
   "id": "36408ab4",
   "metadata": {},
   "outputs": [],
   "source": [
    "import boto3\n",
    "import json"
   ]
  },
  {
   "cell_type": "markdown",
   "id": "a121821e",
   "metadata": {},
   "source": [
    "#### Vamos a extraer atributos de Anuncios de Propiedades"
   ]
  },
  {
   "cell_type": "code",
   "execution_count": null,
   "id": "decf7528",
   "metadata": {},
   "outputs": [],
   "source": [
    "prompt=\"\"\"\n",
    "¡OPORTUNIDAD ÚNICA! - La Casa más Peculiar de Silicon Valley\n",
    "\n",
    "Ponemos a la venta esta extraordinaria propiedad ubicada en 404 Error Street, Palo Alto, Silicon Valley. Esta casa de 180m² construida en 1999 fue anteriormente propiedad de un excéntrico programador que la convirtió en el sueño de cualquier geek.\n",
    "\n",
    "Cuenta con 3 dormitorios y 2 baños, pero lo más destacable son sus características únicas: todas las luces se controlan por comandos de voz en lenguaje Python, el frigorífico envía tweets cuando se está quedando sin comida, y el jardín tiene un sistema de riego controlado por IA que ha desarrollado su propia personalidad (a veces se niega a regar las plantas que no le caen bien).\n",
    "\n",
    "La casa incluye una sala de servidores convertida en spa, donde el calor de los ordenadores mantiene la temperatura perfecta para el jacuzzi. El garaje tiene capacidad para 2 coches o 200 placas Arduino, según preferencias.\n",
    "\n",
    "Estado: Bueno (excepto por algunos bugs menores en el sistema domótico)\n",
    "Precio: $2,500,000 (se acepta pago en Bitcoin)\n",
    "\n",
    "Características adicionales:\n",
    "- WiFi que alcanza hasta la Luna\n",
    "- Sistema de seguridad que identifica a los visitantes por su historial de GitHub\n",
    "- Tostadora que imprime memes en el pan\n",
    "- Puerta principal que solo se abre si resuelves un acertijo de programación\n",
    "\n",
    "¡Una verdadera joya para los amantes de la tecnología!\n",
    "\"\"\""
   ]
  },
  {
   "cell_type": "markdown",
   "id": "67e9937f",
   "metadata": {},
   "source": [
    "#### Definimos esquema con los mayores detalles posibles, para que el LLM entienda"
   ]
  },
  {
   "cell_type": "code",
   "execution_count": null,
   "id": "b259be60",
   "metadata": {},
   "outputs": [],
   "source": [
    "tool_config = {\n",
    "    \"tools\": [{\n",
    "        \"toolSpec\": {\n",
    "            \"name\": \"extract_property\",\n",
    "            \"description\": \"Extract property listing information\",\n",
    "            \"inputSchema\": {\n",
    "                \"json\": {\n",
    "                    \"type\": \"object\",\n",
    "                    \"properties\": {\n",
    "                        \"property\": {\n",
    "                            \"type\": \"object\",\n",
    "                            \"properties\": {\n",
    "                                \"title\": {\n",
    "                                    \"type\": \"string\",\n",
    "                                    \"description\": \"Title of the property listing\"\n",
    "                                },\n",
    "                                \"price\": {\n",
    "                                    \"type\": \"number\",\n",
    "                                    \"description\": \"Price in local currency\"\n",
    "                                },\n",
    "                                \"location\": {\n",
    "                                    \"type\": \"object\",\n",
    "                                    \"properties\": {\n",
    "                                        \"street\": {\"type\": \"string\"},\n",
    "                                        \"neighborhood\": {\"type\": \"string\"},\n",
    "                                        \"city\": {\"type\": \"string\"}\n",
    "                                    }\n",
    "                                },\n",
    "                                \"size\": {\n",
    "                                    \"type\": \"number\",\n",
    "                                    \"description\": \"Size in square meters\"\n",
    "                                },\n",
    "                                \"rooms\": {\n",
    "                                    \"type\": \"object\",\n",
    "                                    \"properties\": {\n",
    "                                        \"bedrooms\": {\"type\": \"integer\"},\n",
    "                                        \"bathrooms\": {\"type\": \"integer\"}\n",
    "                                    }\n",
    "                                },\n",
    "                                \"features\": {\n",
    "                                    \"type\": \"array\",\n",
    "                                    \"items\": {\n",
    "                                        \"type\": \"string\",\n",
    "                                        \"description\": \"Special features or amenities\"\n",
    "                                    }\n",
    "                                },\n",
    "                                \"condition\": {\n",
    "                                    \"type\": \"string\",\n",
    "                                    \"enum\": [\"new\", \"good\", \"needs_renovation\", \"under_construction\"]\n",
    "                                },\n",
    "                                \"year_built\": {\n",
    "                                    \"type\": \"integer\",\n",
    "                                    \"description\": \"Year the property was built\"\n",
    "                                }\n",
    "                            }\n",
    "                        }\n",
    "                    }\n",
    "                }\n",
    "            }\n",
    "        }\n",
    "    }]\n",
    "}"
   ]
  },
  {
   "cell_type": "code",
   "execution_count": null,
   "id": "7fd4d509",
   "metadata": {},
   "outputs": [],
   "source": [
    "# Iniciamos cliente\n",
    "bedrock_client = boto3.client('bedrock-runtime', region_name='us-west-2')"
   ]
  },
  {
   "cell_type": "code",
   "execution_count": null,
   "id": "ae958486",
   "metadata": {},
   "outputs": [],
   "source": [
    "# Invocamos LLM mediante Bedrock\n",
    "model_response = bedrock_client.converse(\n",
    "    modelId=\"us.amazon.nova-lite-v1:0\",\n",
    "   system=[{\"text\": \"You are an expert extractor that compiles details, from real estate properties\"}],\n",
    "    messages=[{\"role\": \"user\", \"content\": [{\"text\": prompt}]}],\n",
    "    inferenceConfig={\"temperature\": 0},\n",
    "    toolConfig=tool_config\n",
    ")"
   ]
  },
  {
   "cell_type": "code",
   "execution_count": null,
   "id": "6eeba4c3",
   "metadata": {},
   "outputs": [],
   "source": [
    "# Show response with JSON structure\n",
    "formatted_response = json.dumps(model_response['output']['message'], indent=2, ensure_ascii=False)\n",
    "print(formatted_response)"
   ]
  },
  {
   "cell_type": "code",
   "execution_count": null,
   "id": "6b66bb6d",
   "metadata": {},
   "outputs": [],
   "source": [
    "# Show response with JSON structure\n",
    "formatted_response = json.dumps(model_response['output']['message']['content'][1]['toolUse']['input'], indent=2, ensure_ascii=False)\n",
    "print(formatted_response)"
   ]
  }
 ],
 "metadata": {
  "kernelspec": {
   "display_name": ".venv (3.12.11)",
   "language": "python",
   "name": "python3"
  },
  "language_info": {
   "codemirror_mode": {
    "name": "ipython",
    "version": 3
   },
   "file_extension": ".py",
   "mimetype": "text/x-python",
   "name": "python",
   "nbconvert_exporter": "python",
   "pygments_lexer": "ipython3",
   "version": "3.12.11"
  }
 },
 "nbformat": 4,
 "nbformat_minor": 5
}
