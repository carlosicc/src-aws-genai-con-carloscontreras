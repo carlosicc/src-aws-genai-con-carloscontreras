{
 "cells": [
  {
   "cell_type": "markdown",
   "metadata": {},
   "source": [
    "More details at [AWS Samples notebook](https://github.com/aws-samples/amazon-bedrock-samples/blob/main/rag/knowledge-bases/features-examples/01-rag-concepts/01_create_ingest_documents_test_kb_multi_ds.ipynb)"
   ]
  },
  {
   "cell_type": "markdown",
   "metadata": {},
   "source": [
    "![](./images/data_ingestion.png)"
   ]
  },
  {
   "cell_type": "code",
   "execution_count": 3,
   "metadata": {},
   "outputs": [],
   "source": [
    "import boto3\n",
    "import pprint"
   ]
  },
  {
   "cell_type": "markdown",
   "metadata": {},
   "source": [
    "### List Knowledge Bases"
   ]
  },
  {
   "cell_type": "code",
   "execution_count": null,
   "metadata": {},
   "outputs": [],
   "source": [
    "# create a boto3 client for bedrock\n",
    "bedrock = boto3.client(service_name='bedrock-agent')\n",
    "\n",
    "# list all knowledge bases\n",
    "response = bedrock.list_knowledge_bases()\n",
    "\n",
    "# print the response\n",
    "response"
   ]
  },
  {
   "cell_type": "markdown",
   "metadata": {},
   "source": [
    "### Añadiendo nuevo Data Source al Knowledge Base (KB) que ya tenemos"
   ]
  },
  {
   "cell_type": "markdown",
   "metadata": {},
   "source": [
    "#### Syntaxis base:\n",
    "```python\n",
    "response = client.create_data_source(\n",
    "    dataDeletionPolicy='RETAIN'|'DELETE',\n",
    "    dataSourceConfiguration={\n",
    "        's3Configuration': {\n",
    "            'bucketArn': 'string',\n",
    "            'bucketOwnerAccountId': 'string',\n",
    "            'inclusionPrefixes': [\n",
    "                'string',\n",
    "            ]\n",
    "        },\n",
    "        'type': 'S3'\n",
    "    },\n",
    "    description='string',\n",
    "    knowledgeBaseId=kb_id,\n",
    "    name='string',\n",
    "    vectorIngestionConfiguration={\n",
    "        'chunkingConfiguration': {\n",
    "            'chunkingStrategy': 'FIXED_SIZE'|'NONE'|'HIERARCHICAL'|'SEMANTIC',\n",
    "            'fixedSizeChunkingConfiguration': {\n",
    "                'maxTokens': 123,\n",
    "                'overlapPercentage': 123\n",
    "            },\n",
    "            'hierarchicalChunkingConfiguration': {\n",
    "                'levelConfigurations': [\n",
    "                    {\n",
    "                        'maxTokens': 123\n",
    "                    },\n",
    "                ],\n",
    "                'overlapTokens': 123\n",
    "            },\n",
    "            'semanticChunkingConfiguration': {\n",
    "                'breakpointPercentileThreshold': 123,\n",
    "                'bufferSize': 123,\n",
    "                'maxTokens': 123\n",
    "            }\n",
    "        }\n",
    "    }\n",
    ")\n",
    "```"
   ]
  },
  {
   "cell_type": "markdown",
   "metadata": {},
   "source": [
    "> Es más fácil a través de una función"
   ]
  },
  {
   "cell_type": "code",
   "execution_count": 5,
   "metadata": {},
   "outputs": [],
   "source": [
    "def create_s3_data_source(kb_id,\n",
    "                          kb_data_source_name,\n",
    "                          kb_s3_bucket_name_arn,\n",
    "                          kb_s3_data_source_path,\n",
    "                          kb_s3_bucket_account_id,\n",
    "                          vector_ingestion_configuration):\n",
    "    \"\"\"_summary_\n",
    "\n",
    "    Args:\n",
    "        kb_id (_type_): _description_\n",
    "        kb_data_source_name (_type_): _description_\n",
    "        kb_s3_bucket_name_arn (_type_): _description_\n",
    "        kb_s3_data_source_path (_type_): _description_\n",
    "        kb_s3_bucket_account_id (_type_): _description_\n",
    "        vector_ingestion_configuration (_type_): _description_\n",
    "\n",
    "    Returns:\n",
    "        _type_: _description_\n",
    "    \"\"\"\n",
    "    # Set SDK\n",
    "    client = boto3.client('bedrock-agent')\n",
    "\n",
    "    # Create S3 Data Source \n",
    "    response = client.create_data_source(\n",
    "        dataDeletionPolicy='RETAIN',\n",
    "        dataSourceConfiguration={\n",
    "            's3Configuration': {\n",
    "                'bucketArn': kb_s3_bucket_name_arn,\n",
    "                'bucketOwnerAccountId': kb_s3_bucket_account_id,\n",
    "                'inclusionPrefixes': [\n",
    "                    kb_s3_data_source_path,\n",
    "                ]\n",
    "            },\n",
    "            'type': 'S3'\n",
    "        },\n",
    "        description='S3 data source with different chunking strategy for testing purposes',\n",
    "        knowledgeBaseId=kb_id,\n",
    "        name=kb_data_source_name,\n",
    "        vectorIngestionConfiguration=vector_ingestion_configuration\n",
    "    )\n",
    "\n",
    "    return response"
   ]
  },
  {
   "cell_type": "markdown",
   "metadata": {},
   "source": [
    "---\n",
    "## Chunking Strategy: HIERARCHICAL  \n",
    "> IMPORTANTE! Cambien los detalles debajo"
   ]
  },
  {
   "cell_type": "code",
   "execution_count": 6,
   "metadata": {},
   "outputs": [],
   "source": [
    "# CHANGE ME!!\n",
    "kb_chunking_strategy = \"HIERARCHICAL\"\n",
    "\n",
    "# Knowledge Base and New Data Source details:\n",
    "# - Note: Account ID can be fetched using sts_client.get_caller_identity()[\"Account\"]\n",
    "kb_id = \"6ER5P7TAJM\"\n",
    "kb_s3_bucket_name_arn = \"arn:aws:s3:::genai-carlos-contreras-bucket-data-quarks-labs-oregon-01\"\n",
    "kb_s3_bucket_account_id = \"992382616037\"\n",
    "\n",
    "# No need to change the following values:\n",
    "kb_s3_bucket_name = kb_s3_bucket_name_arn.split(\":::\")[-1]\n",
    "kb_data_source_name = f\"virtual-assistant-s3-{kb_chunking_strategy}\"\n",
    "kb_s3_data_source_path = f\"datasets/demo_kb/knowledge-base-ecommerce-s3-001/{kb_data_source_name}/\""
   ]
  },
  {
   "cell_type": "markdown",
   "metadata": {},
   "source": [
    "> Conceptos rápidos sobre [Hierarchical Chunking](https://docs.aws.amazon.com/bedrock/latest/userguide/kb-chunking.html):\n",
    "\n",
    "For hierarchical chunking, Amazon Bedrock knowledge bases supports specifying two levels or the following depth for chunking:\n",
    "\n",
    "- Parent: You set the maximum parent chunk token size.\n",
    "\n",
    "- Child: You set the maximum child chunk token size."
   ]
  },
  {
   "cell_type": "code",
   "execution_count": 8,
   "metadata": {},
   "outputs": [],
   "source": [
    "# Define Lab:\n",
    "vectorIngestionConfiguration={\n",
    "    'chunkingConfiguration': {\n",
    "        'chunkingStrategy': kb_chunking_strategy,\n",
    "        'hierarchicalChunkingConfiguration': {\n",
    "            'levelConfigurations': [\n",
    "                {\n",
    "                    'maxTokens': 100\n",
    "                },\n",
    "                {\n",
    "                    'maxTokens': 30\n",
    "                }\n",
    "            ],\n",
    "            'overlapTokens': 20\n",
    "        }\n",
    "    }\n",
    "}"
   ]
  },
  {
   "cell_type": "code",
   "execution_count": null,
   "metadata": {},
   "outputs": [],
   "source": [
    "# Create data source\n",
    "response = create_s3_data_source(kb_id=kb_id,\n",
    "                                 kb_data_source_name=kb_data_source_name,\n",
    "                                 kb_s3_bucket_name_arn=kb_s3_bucket_name_arn,\n",
    "                                 kb_s3_bucket_account_id=kb_s3_bucket_account_id,\n",
    "                                 kb_s3_data_source_path=kb_s3_data_source_path,\n",
    "                                 vector_ingestion_configuration=vectorIngestionConfiguration)\n",
    "\n",
    "# Get Data Source ID, so we can delete it after this lab\n",
    "data_source_id = response['dataSource']['dataSourceId']\n",
    "print(f\"New Data Source ID: {data_source_id}\")"
   ]
  },
  {
   "cell_type": "code",
   "execution_count": 10,
   "metadata": {},
   "outputs": [],
   "source": [
    "# Copy PDF to S3:\n",
    "pdf_file = 'octank_financial_10K.pdf'\n",
    "s3_pdf_file = f\"{kb_s3_data_source_path}{pdf_file}\"\n",
    "s3_client = boto3.client('s3')"
   ]
  },
  {
   "cell_type": "code",
   "execution_count": 11,
   "metadata": {},
   "outputs": [],
   "source": [
    "# Upload file to s3:\n",
    "s3_client.upload_file(f\"synthetic_dataset/{pdf_file}\",kb_s3_bucket_name,s3_pdf_file)"
   ]
  },
  {
   "cell_type": "markdown",
   "metadata": {},
   "source": [
    "> SYNC Knowledge Base, pero esta vez usando Boto3"
   ]
  },
  {
   "cell_type": "code",
   "execution_count": null,
   "metadata": {},
   "outputs": [],
   "source": [
    "# Sync del KB\n",
    "bedrock_agent_client = boto3.client('bedrock-agent')\n",
    "response = bedrock_agent_client.start_ingestion_job(\n",
    "    dataSourceId=data_source_id,\n",
    "    description='Ingesting data for the first time, from ETL X',\n",
    "    knowledgeBaseId=kb_id\n",
    ")\n",
    "ingestion_job = response['ingestionJob']['ingestionJobId']\n",
    "print(f'Ingestion Job ID: {ingestion_job}')"
   ]
  },
  {
   "cell_type": "code",
   "execution_count": null,
   "metadata": {},
   "outputs": [],
   "source": [
    "# Check ingestion status\n",
    "response = bedrock_agent_client.get_ingestion_job(\n",
    "    dataSourceId=data_source_id,\n",
    "    ingestionJobId=ingestion_job,\n",
    "    knowledgeBaseId=kb_id\n",
    ")\n",
    "\n",
    "# Show status\n",
    "pp = pprint.PrettyPrinter(indent=4)\n",
    "pp.pprint(response['ingestionJob'])"
   ]
  },
  {
   "cell_type": "markdown",
   "metadata": {},
   "source": [
    "## 2. Probamos el Knowledge Base\n",
    "\n",
    "> Analizamos chunks"
   ]
  },
  {
   "cell_type": "code",
   "execution_count": 25,
   "metadata": {},
   "outputs": [],
   "source": [
    "# User question\n",
    "query = \"Provide a summary of consolidated statements of cash flows of Octank Financial for the fiscal years ended December 31, 2019?\""
   ]
  },
  {
   "cell_type": "code",
   "execution_count": 26,
   "metadata": {},
   "outputs": [],
   "source": [
    "# SDK and model settings\n",
    "foundation_model = \"anthropic.claude-3-sonnet-20240229-v1:0\"\n",
    "bedrock_agent_runtime_client = boto3.client('bedrock-agent-runtime') \n",
    "boto_region = bedrock_agent_runtime_client.meta.region_name"
   ]
  },
  {
   "cell_type": "code",
   "execution_count": null,
   "metadata": {},
   "outputs": [],
   "source": [
    "# Retrieve the knowledge base ID\n",
    "response = bedrock_agent_runtime_client.retrieve_and_generate(\n",
    "    input={\n",
    "        \"text\": query\n",
    "    },\n",
    "    retrieveAndGenerateConfiguration={\n",
    "        \"type\": \"KNOWLEDGE_BASE\",\n",
    "        \"knowledgeBaseConfiguration\": {\n",
    "            'knowledgeBaseId': kb_id,\n",
    "            \"modelArn\": \"arn:aws:bedrock:{}::foundation-model/{}\".format(boto_region, foundation_model),\n",
    "            \"retrievalConfiguration\": {\n",
    "                \"vectorSearchConfiguration\": {\n",
    "                    \"numberOfResults\":5\n",
    "                } \n",
    "            }\n",
    "        }\n",
    "    }\n",
    ")\n",
    "\n",
    "print(response['output']['text'],end='\\n'*2)"
   ]
  },
  {
   "cell_type": "code",
   "execution_count": 29,
   "metadata": {},
   "outputs": [],
   "source": [
    "def citations_rag_print(response_ret):\n",
    "    for num,chunk in enumerate(response_ret,1):\n",
    "        print(f'Chunk {num}: ',chunk['content']['text'],end='\\n'*2)\n",
    "        print(f'Chunk {num} Location: ',chunk['location'],end='\\n'*2)\n",
    "        print(f'Chunk {num} Metadata: ',chunk['metadata'],end='\\n'*2)"
   ]
  },
  {
   "cell_type": "code",
   "execution_count": null,
   "metadata": {},
   "outputs": [],
   "source": [
    "response_standard = response['citations'][0]['retrievedReferences']\n",
    "print(\"# of citations or chunks used to generate the response: \", len(response_standard))\n",
    "citations_rag_print(response_standard)"
   ]
  },
  {
   "cell_type": "markdown",
   "metadata": {},
   "source": [
    "### Probando el Knowledge Base con Retrieve API"
   ]
  },
  {
   "cell_type": "code",
   "execution_count": null,
   "metadata": {},
   "outputs": [],
   "source": [
    "# Call Bedrock Retrieve\n",
    "response = bedrock_agent_runtime_client.retrieve(\n",
    "    knowledgeBaseId=kb_id, \n",
    "    nextToken='string',\n",
    "    retrievalConfiguration={\n",
    "        \"vectorSearchConfiguration\": {\n",
    "            \"numberOfResults\":5,\n",
    "        } \n",
    "    },\n",
    "    retrievalQuery={\n",
    "        \"text\": \"How many new positions were opened across Amazon's fulfillment and delivery network?\"\n",
    "    }\n",
    ")\n",
    "\n",
    "def response_print(retrieve_resp):\n",
    "    for num,chunk in enumerate(response['retrievalResults'],1):\n",
    "        print(f'Chunk {num}: ',chunk['content']['text'],end='\\n'*2)\n",
    "        print(f'Chunk {num} Location: ',chunk['location'],end='\\n'*2)\n",
    "        print(f'Chunk {num} Score: ',chunk['score'],end='\\n'*2)\n",
    "        print(f'Chunk {num} Metadata: ',chunk['metadata'],end='\\n'*2)\n",
    "\n",
    "response_print(response)"
   ]
  },
  {
   "cell_type": "code",
   "execution_count": null,
   "metadata": {},
   "outputs": [],
   "source": [
    "pp.pprint(response)"
   ]
  },
  {
   "cell_type": "markdown",
   "metadata": {},
   "source": [
    "### Pasos de Cierre de Chunking Lab:\n",
    "1. Borramos archivos en S3: Esto hará que el siguiente Sync borre esta info (embeddings)\n",
    "2. Sync del Knowledge Base de nuevo\n",
    "3. Borramos Data Source"
   ]
  },
  {
   "cell_type": "code",
   "execution_count": null,
   "metadata": {},
   "outputs": [],
   "source": [
    "# Step 1\n",
    "s3_client.delete_object(Bucket=kb_s3_bucket_name,Key=s3_pdf_file)"
   ]
  },
  {
   "cell_type": "code",
   "execution_count": null,
   "metadata": {},
   "outputs": [],
   "source": [
    "# Sync del KB. This can be achieved using EventBridge or similar\n",
    "bedrock_agent_client = boto3.client('bedrock-agent')\n",
    "response = bedrock_agent_client.start_ingestion_job(\n",
    "    dataSourceId=data_source_id,\n",
    "    description='Deleting embeddings (syncing) after removing S3 files',\n",
    "    knowledgeBaseId=kb_id\n",
    ")\n",
    "\n",
    "ingestion_job = response['ingestionJob']['ingestionJobId']\n",
    "print(f'Ingestion Job ID: {ingestion_job}')"
   ]
  },
  {
   "cell_type": "code",
   "execution_count": null,
   "metadata": {},
   "outputs": [],
   "source": [
    "# Check ingestion status\n",
    "response = bedrock_agent_client.get_ingestion_job(\n",
    "    dataSourceId=data_source_id,\n",
    "    ingestionJobId=ingestion_job,\n",
    "    knowledgeBaseId=kb_id\n",
    ")\n",
    "\n",
    "# Show status\n",
    "pp = pprint.PrettyPrinter(indent=4)\n",
    "pp.pprint(response['ingestionJob'])"
   ]
  },
  {
   "cell_type": "code",
   "execution_count": 37,
   "metadata": {},
   "outputs": [],
   "source": [
    "# Delete de Data Source\n",
    "bedrock_agent_client = boto3.client('bedrock-agent')\n",
    "response = bedrock_agent_client.delete_data_source(\n",
    "    dataSourceId=data_source_id,\n",
    "    knowledgeBaseId=kb_id\n",
    ")"
   ]
  },
  {
   "cell_type": "code",
   "execution_count": null,
   "metadata": {},
   "outputs": [],
   "source": [
    "# Show status\n",
    "pp = pprint.PrettyPrinter(indent=4)\n",
    "pp.pprint(response)"
   ]
  },
  {
   "cell_type": "code",
   "execution_count": null,
   "metadata": {},
   "outputs": [],
   "source": []
  }
 ],
 "metadata": {
  "kernelspec": {
   "display_name": ".venv",
   "language": "python",
   "name": "python3"
  },
  "language_info": {
   "codemirror_mode": {
    "name": "ipython",
    "version": 3
   },
   "file_extension": ".py",
   "mimetype": "text/x-python",
   "name": "python",
   "nbconvert_exporter": "python",
   "pygments_lexer": "ipython3",
   "version": "3.12.5"
  }
 },
 "nbformat": 4,
 "nbformat_minor": 2
}
