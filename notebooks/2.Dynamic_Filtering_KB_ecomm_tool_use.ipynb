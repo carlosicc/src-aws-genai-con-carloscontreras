{
 "cells": [
  {
   "cell_type": "markdown",
   "metadata": {},
   "source": [
    "## Dynamic Metadata Filtering for Knowledge Bases"
   ]
  },
  {
   "cell_type": "code",
   "execution_count": 1,
   "metadata": {},
   "outputs": [],
   "source": [
    "import json\n",
    "import boto3"
   ]
  },
  {
   "cell_type": "code",
   "execution_count": 2,
   "metadata": {},
   "outputs": [],
   "source": [
    "# Session init\n",
    "session = boto3.session.Session()\n",
    "region = session.region_name\n",
    "bedrock = boto3.client(\"bedrock-runtime\", region_name=region)\n",
    "bedrock_agent_runtime = boto3.client(\"bedrock-agent-runtime\")"
   ]
  },
  {
   "cell_type": "markdown",
   "metadata": {},
   "source": [
    "## Implement Entity Extraction using Tool Use\n",
    "We'll define a tool for entity extraction with very basic instructions and use it with Amazon Bedrock:\n"
   ]
  },
  {
   "cell_type": "code",
   "execution_count": 3,
   "metadata": {},
   "outputs": [],
   "source": [
    "subcategory_filters = [\n",
    "        \"3-D Puzzles\", \"Accessories\", \"Action Man\", \"Activity Centres\", \"Alternative Medicine\",\n",
    "        \"Art & Craft Supplies\", \"Art Sand\", \"BRIO\", \"Banners, Stickers & Confetti\", \"Barbie\",\n",
    "        \"Baskets & Bins\", \"Beach Toys\", \"Bikes, Trikes & Ride-ons\", \"Blackboards\", \"Board Games\",\n",
    "        \"Bob the Builder\", \"Boxes & Organisers\", \"Braces, Splints & Slings\", \"Brain Teasers\", \"Card Games\",\n",
    "        \"Casino Equipment\", \"Charms\", \"Chess\", \"Children's Bedding\", \"Children's Chalk\",\n",
    "        \"Children's Craft Kits\", \"Chocolate\", \"Climbing Frames\", \"Clothing & Accessories\", \"Collectible Figures & Memorabilia\",\n",
    "        \"Colouring Pencils\", \"Colouring Pens & Markers\", \"Costumes\", \"Cowboys & Indians\", \"Crayola\",\n",
    "        \"Cup & Ball Games\", \"DVD Games\", \"Darts & Accessories\", \"Decorations\", \"Decorative Accessories\",\n",
    "        \"Desk Accessories & Storage Products\", \"Dice & Dice Games\", \"Digital Cameras\", \"Dinosaurs\", \"Disney\",\n",
    "        \"Doll Making\", \"Dolls' House Dolls & Accessories\", \"Dominoes & Tile Games\", \"Drawing & Painting Supplies\", \"Drinking Games\",\n",
    "        \"Early Learning Centre\", \"Educational Computers & Accessories\", \"Educational Games\", \"Emergency Services\", \"Erasers & Correction Supplies\",\n",
    "        \"Erotic Clothing\", \"Farm & Animals\", \"Fashion Dolls & Accessories\", \"Felt Kits\", \"Finger Puppets\",\n",
    "        \"Football\", \"Frame Jigsaws\", \"Garden Tools\", \"Greenhouses & Plant Germination Equipment\", \"Guitars & Strings\",\n",
    "        \"Hand Puppets\", \"Hand Tools\", \"Harry Potter\", \"Hasbro\", \"Hornby\",\n",
    "        \"Instruments\", \"Invitations\", \"Jigsaw Accessories\", \"Jigsaws\", \"Kid Venture\",\n",
    "        \"Kids Remote & App Controlled Toys\", \"Kids'\", \"Kitchen Tools & Gadgets\", \"Kites & Flight Toys\", \"Knights & Castles\",\n",
    "        \"Lab Instruments & Equipment\", \"Labels, Index Dividers & Stamps\", \"LeapFrog\", \"Learning & Activity Toys\", \"Literacy & Spelling\",\n",
    "        \"Markers & Highlighters\", \"Marvin's Magic\", \"Mathematics\", \"Military\", \"Model Building Kits\",\n",
    "        \"Model Trains & Railway Sets\", \"Mystery Games\", \"Novelty\", \"Pain & Fever\", \"Painting By Numbers\",\n",
    "        \"Paper & Stickers\", \"Party Bags\", \"Party Favours\", \"Party Tableware\", \"Pencils\",\n",
    "        \"Pens & Refills\", \"Pianos & Keyboards\", \"Pirates\", \"Play Tools\", \"Playsets\",\n",
    "        \"Pushchair Toys\", \"Racket Games\", \"Rattles\", \"Ravensburger\", \"Remote Controlled Devices\",\n",
    "        \"Robots\", \"Rockers & Ride-ons\", \"Rocking Horses\", \"Sandwich Spreads, Pates & Pastes\", \"Schoolbags & Backpacks\",\n",
    "        \"Science Fiction & Fantasy\", \"Seasonal Décor\", \"Shops & Accessories\", \"Sleeping Gear\", \"Slot Cars, Race Tracks & Accessories\",\n",
    "        \"Soft Dolls\", \"Sorting, Stacking & Plugging Toys\", \"Sound Toys\", \"Specialty & Decorative Lighting\", \"Spinning Tops\",\n",
    "        \"Sport\", \"Star Wars\", \"Strategy Games\", \"Tabletop & Miniature Gaming\", \"Target Games\",\n",
    "        \"Teaching Clocks\", \"Thomas & Friends\", \"Thunderbirds\", \"Tomy\", \"Tops & T-Shirts\",\n",
    "        \"Toy Story\", \"Toy Trains & Accessories\", \"Toy Vehicle Playsets\", \"Toy Vehicles & Accessories\", \"Trading Cards & Accessories\",\n",
    "        \"Transportation & Traffic\", \"Travel & Pocket Games\", \"Trivia & Quiz Games\", \"Upstarts\", \"VTech\",\n",
    "        \"WWE\", \"Wind & Brass\", \"Winnie-the-Pooh\", \"others\"\n",
    "    ]"
   ]
  },
  {
   "cell_type": "code",
   "execution_count": 4,
   "metadata": {},
   "outputs": [],
   "source": [
    "# Get all categories from Database; i.e. refresh once a day from DB.\n",
    "db_product_categories = \",\".join(str(x) for x in subcategory_filters)"
   ]
  },
  {
   "cell_type": "markdown",
   "metadata": {},
   "source": [
    "## Prompt Definition"
   ]
  },
  {
   "cell_type": "code",
   "execution_count": 5,
   "metadata": {},
   "outputs": [],
   "source": [
    "def system_prompt():\n",
    "    return \"\"\"You are an expert in extracting the main product category, for products that users are looking for.\n",
    "    Do not return any other text, except for the product category you have extracted.\n",
    "    \"\"\"\n",
    "\n",
    "def generate_prompt(question, product_categories):\n",
    "    return f\"\"\"\n",
    "    Below, you have a list in XML tags containing the product categories we have in our store.\n",
    "    Your task is to return the only category that is the most representative for the user question's context or semantic.\n",
    "    <product_categories>\n",
    "    {product_categories}. \n",
    "    </product_categories>\n",
    "    For example, if the user question is \"I'm looking DIY sand for my son\", then you'll need to return \"Art Sand\".\n",
    "    If you cannot map or find the category value, use 'others'. \n",
    "    If the question is not related to an ecommerce store, use 'unknown'.\n",
    "\n",
    "    Respond to the following user question:\n",
    "    {question}\n",
    "    \"\"\""
   ]
  },
  {
   "cell_type": "code",
   "execution_count": 6,
   "metadata": {},
   "outputs": [],
   "source": [
    "# SDK\n",
    "bedrock_runtime = boto3.client('bedrock-runtime')"
   ]
  },
  {
   "cell_type": "code",
   "execution_count": 7,
   "metadata": {},
   "outputs": [],
   "source": [
    "def get_category(question, product_categories,model_id=\"anthropic.claude-3-5-haiku-20241022-v1:0\"):\n",
    "    \"\"\"\n",
    "    Retrieves the product category from the given text using the specified tool properties.\n",
    "\n",
    "    Args:\n",
    "        text (str): The input text to be processed.\n",
    "        \n",
    "    Returns:\n",
    "        str: The product category if found.\n",
    "    \"\"\" \n",
    "    try:\n",
    "      response = bedrock_runtime.converse(\n",
    "        modelId=model_id,\n",
    "        system=[{\n",
    "          \"text\": system_prompt()\n",
    "        }],\n",
    "        messages=[{\n",
    "          \"role\": \"user\",\n",
    "          \"content\": [{\"text\": generate_prompt(question,product_categories)}]\n",
    "        }],\n",
    "        inferenceConfig={\n",
    "            \"maxTokens\": 4096,\n",
    "            \"temperature\": 0.5\n",
    "        },\n",
    "      )\n",
    "\n",
    "      # Return only category\n",
    "      category_product = response['output']['message']['content'][0]['text']\n",
    "\n",
    "      return category_product\n",
    "  \n",
    "    except Exception as e:\n",
    "      print(f\"Error while mapping user query with product category: {e}\")\n",
    "      return None"
   ]
  },
  {
   "cell_type": "markdown",
   "metadata": {},
   "source": [
    "## Construct Metadata Filter\n",
    "Now, let's create a function to construct the metadata filter based on the extracted entities:"
   ]
  },
  {
   "cell_type": "code",
   "execution_count": 8,
   "metadata": {},
   "outputs": [],
   "source": [
    "def construct_metadata_filter(product_category):\n",
    "    metadata_filter = {\"andAll\": []}\n",
    "\n",
    "    if product_category and product_category != 'unknown':\n",
    "        metadata_filter[\"andAll\"].append({\n",
    "            \"equals\": {\n",
    "                \"key\": \"subcategory_1\",\n",
    "                \"value\": product_category\n",
    "            }\n",
    "        })\n",
    "    \n",
    "    else:\n",
    "        print(\"Product category is unknown. Skipping metadata filter.\")\n",
    "\n",
    "    return metadata_filter if metadata_filter[\"andAll\"] else None"
   ]
  },
  {
   "cell_type": "markdown",
   "metadata": {},
   "source": [
    "## Example"
   ]
  },
  {
   "cell_type": "code",
   "execution_count": 9,
   "metadata": {},
   "outputs": [],
   "source": [
    "user_question=\"Tienes arena para manualidades?\"\n",
    "user_question=\"I'm looking for sand to do DIY activities with my son\"\n",
    "# user_question=\"Brontosaurus para niños\"\n",
    "# user_question=\"Tienes el juego de mesa Clue?\"\n",
    "# user_question=\"Tienes tijeras para cortar el césped?\""
   ]
  },
  {
   "cell_type": "code",
   "execution_count": null,
   "metadata": {},
   "outputs": [],
   "source": [
    "extracted_entities = get_category(question=user_question,product_categories=db_product_categories)\n",
    "metadata_filter = construct_metadata_filter(extracted_entities)\n",
    "print('Here is the prepared metadata filters:')\n",
    "print(json.dumps(metadata_filter, indent=4))"
   ]
  },
  {
   "cell_type": "markdown",
   "metadata": {},
   "source": [
    "---\n",
    "### Finalmente, podemos llamar la API de Retrieve con los nuevos filtros:\n",
    "> e.g.\n",
    "```python\n",
    "def process_query(text, tool_properties):\n",
    "    extracted_entities = get_category(text, tool_properties)\n",
    "    metadata_filter = construct_metadata_filter(extracted_entities)\n",
    "    \n",
    "    # Call Bedrock KB with Metadata Filter\n",
    "    response = bedrock_agent_runtime.retrieve_and_generate(\n",
    "        knowledgeBaseId=kb_id,\n",
    "        retrievalConfiguration={\n",
    "            \"vectorSearchConfiguration\": {\n",
    "                \"filter\": metadata_filter\n",
    "            }\n",
    "        },\n",
    "        retrievalQuery={\n",
    "            \"text\": \"Tienes tijeras para cortar el césped?\"\n",
    "        },\n",
    "        modelArn='eu.claude...'\n",
    "    return response\n",
    "```\n",
    "Tal cual nos los solicita la [API de Bedrock](https://boto3.amazonaws.com/v1/documentation/api/latest/reference/services/bedrock-agent-runtime/client/retrieve_and_generate.html):\n",
    "\n",
    "![](./images/bedrock_retrieve_api.png)"
   ]
  },
  {
   "cell_type": "markdown",
   "metadata": {},
   "source": []
  }
 ],
 "metadata": {
  "kernelspec": {
   "display_name": ".venv",
   "language": "python",
   "name": "python3"
  },
  "language_info": {
   "codemirror_mode": {
    "name": "ipython",
    "version": 3
   },
   "file_extension": ".py",
   "mimetype": "text/x-python",
   "name": "python",
   "nbconvert_exporter": "python",
   "pygments_lexer": "ipython3",
   "version": "3.12.5"
  }
 },
 "nbformat": 4,
 "nbformat_minor": 2
}
