{
 "cells": [
  {
   "cell_type": "markdown",
   "metadata": {},
   "source": [
    "## Dynamic Metadata Filtering for Knowledge Bases\n",
    "\n",
    "> Source: aws-samples complete [notebook here](https://github.com/aws-samples/rag-workshop-amazon-bedrock-knowledge-bases/blob/main/03-advanced-concepts/dynamic-metadata-filtering/dynamic-metadata-filtering-KB.ipynb)"
   ]
  },
  {
   "cell_type": "code",
   "execution_count": 1,
   "metadata": {},
   "outputs": [],
   "source": [
    "import json\n",
    "import boto3"
   ]
  },
  {
   "cell_type": "code",
   "execution_count": 2,
   "metadata": {},
   "outputs": [],
   "source": [
    "# Session init\n",
    "session = boto3.session.Session()\n",
    "region = session.region_name\n",
    "bedrock = boto3.client(\"bedrock-runtime\", region_name=region)\n",
    "bedrock_agent_runtime = boto3.client(\"bedrock-agent-runtime\")\n",
    "\n",
    "MODEL_ID = \"anthropic.claude-3-haiku-20240307-v1:0\" "
   ]
  },
  {
   "cell_type": "markdown",
   "metadata": {},
   "source": [
    "## Implement Entity Extraction using Tool Use\n",
    "We'll define a tool for entity extraction with very basic instructions and use it with Amazon Bedrock:\n"
   ]
  },
  {
   "cell_type": "code",
   "execution_count": 3,
   "metadata": {},
   "outputs": [],
   "source": [
    "subcategory_filters = [\n",
    "        \"3-D Puzzles\", \"Accessories\", \"Action Man\", \"Activity Centres\", \"Alternative Medicine\",\n",
    "        \"Art & Craft Supplies\", \"Art Sand\", \"BRIO\", \"Banners, Stickers & Confetti\", \"Barbie\",\n",
    "        \"Baskets & Bins\", \"Beach Toys\", \"Bikes, Trikes & Ride-ons\", \"Blackboards\", \"Board Games\",\n",
    "        \"Bob the Builder\", \"Boxes & Organisers\", \"Braces, Splints & Slings\", \"Brain Teasers\", \"Card Games\",\n",
    "        \"Casino Equipment\", \"Charms\", \"Chess\", \"Children's Bedding\", \"Children's Chalk\",\n",
    "        \"Children's Craft Kits\", \"Chocolate\", \"Climbing Frames\", \"Clothing & Accessories\", \"Collectible Figures & Memorabilia\",\n",
    "        \"Colouring Pencils\", \"Colouring Pens & Markers\", \"Costumes\", \"Cowboys & Indians\", \"Crayola\",\n",
    "        \"Cup & Ball Games\", \"DVD Games\", \"Darts & Accessories\", \"Decorations\", \"Decorative Accessories\",\n",
    "        \"Desk Accessories & Storage Products\", \"Dice & Dice Games\", \"Digital Cameras\", \"Dinosaurs\", \"Disney\",\n",
    "        \"Doll Making\", \"Dolls' House Dolls & Accessories\", \"Dominoes & Tile Games\", \"Drawing & Painting Supplies\", \"Drinking Games\",\n",
    "        \"Early Learning Centre\", \"Educational Computers & Accessories\", \"Educational Games\", \"Emergency Services\", \"Erasers & Correction Supplies\",\n",
    "        \"Erotic Clothing\", \"Farm & Animals\", \"Fashion Dolls & Accessories\", \"Felt Kits\", \"Finger Puppets\",\n",
    "        \"Football\", \"Frame Jigsaws\", \"Garden Tools\", \"Greenhouses & Plant Germination Equipment\", \"Guitars & Strings\",\n",
    "        \"Hand Puppets\", \"Hand Tools\", \"Harry Potter\", \"Hasbro\", \"Hornby\",\n",
    "        \"Instruments\", \"Invitations\", \"Jigsaw Accessories\", \"Jigsaws\", \"Kid Venture\",\n",
    "        \"Kids Remote & App Controlled Toys\", \"Kids'\", \"Kitchen Tools & Gadgets\", \"Kites & Flight Toys\", \"Knights & Castles\",\n",
    "        \"Lab Instruments & Equipment\", \"Labels, Index Dividers & Stamps\", \"LeapFrog\", \"Learning & Activity Toys\", \"Literacy & Spelling\",\n",
    "        \"Markers & Highlighters\", \"Marvin's Magic\", \"Mathematics\", \"Military\", \"Model Building Kits\",\n",
    "        \"Model Trains & Railway Sets\", \"Mystery Games\", \"Novelty\", \"Pain & Fever\", \"Painting By Numbers\",\n",
    "        \"Paper & Stickers\", \"Party Bags\", \"Party Favours\", \"Party Tableware\", \"Pencils\",\n",
    "        \"Pens & Refills\", \"Pianos & Keyboards\", \"Pirates\", \"Play Tools\", \"Playsets\",\n",
    "        \"Pushchair Toys\", \"Racket Games\", \"Rattles\", \"Ravensburger\", \"Remote Controlled Devices\",\n",
    "        \"Robots\", \"Rockers & Ride-ons\", \"Rocking Horses\", \"Sandwich Spreads, Pates & Pastes\", \"Schoolbags & Backpacks\",\n",
    "        \"Science Fiction & Fantasy\", \"Seasonal Décor\", \"Shops & Accessories\", \"Sleeping Gear\", \"Slot Cars, Race Tracks & Accessories\",\n",
    "        \"Soft Dolls\", \"Sorting, Stacking & Plugging Toys\", \"Sound Toys\", \"Specialty & Decorative Lighting\", \"Spinning Tops\",\n",
    "        \"Sport\", \"Star Wars\", \"Strategy Games\", \"Tabletop & Miniature Gaming\", \"Target Games\",\n",
    "        \"Teaching Clocks\", \"Thomas & Friends\", \"Thunderbirds\", \"Tomy\", \"Tops & T-Shirts\",\n",
    "        \"Toy Story\", \"Toy Trains & Accessories\", \"Toy Vehicle Playsets\", \"Toy Vehicles & Accessories\", \"Trading Cards & Accessories\",\n",
    "        \"Transportation & Traffic\", \"Travel & Pocket Games\", \"Trivia & Quiz Games\", \"Upstarts\", \"VTech\",\n",
    "        \"WWE\", \"Wind & Brass\", \"Winnie-the-Pooh\", \"others\"\n",
    "    ]"
   ]
  },
  {
   "cell_type": "markdown",
   "metadata": {},
   "source": [
    "## Tool Definition"
   ]
  },
  {
   "cell_type": "code",
   "execution_count": 6,
   "metadata": {},
   "outputs": [],
   "source": [
    "# Get all categories from Database; i.e. refresh once a day from DB.\n",
    "product_list = \",\".join(str(x) for x in subcategory_filters)\n",
    "\n",
    "# Define Tool specs\n",
    "tool_name = \"get_category\"\n",
    "tool_description = f\"\"\"Extract the only main category (just one) from the text, using only the following official categories: {product_list}. \n",
    "    If you cannot find the entity category value, use 'others'. If the question is not related to an ecommerce store, use 'unknown'.\n",
    "    \"\"\"\n",
    "\n",
    "# What we need to extract\n",
    "tool_get_category = [\"Product_Category\"]\n",
    "tool_extract_property = [\"entities\"]\n",
    "tool_entity_description = {\n",
    "    \"Product_Category\": {\"type\": \"string\", \"description\": \"The product category of the product, fetched from the official categories.\"}\n",
    "}\n",
    "\n",
    "# All Tool properties\n",
    "tool_properties = {\n",
    "    'tool_name':tool_name,\n",
    "    'tool_description':tool_description,\n",
    "    'tool_get_category':tool_get_category,\n",
    "    'tool_extract_property':tool_extract_property,\n",
    "    'tool_entity_description': tool_entity_description\n",
    "}"
   ]
  },
  {
   "cell_type": "code",
   "execution_count": 7,
   "metadata": {},
   "outputs": [],
   "source": [
    "# Define the tool specification\n",
    "toolSpec = [{\n",
    "        \"toolSpec\": {\n",
    "            \"name\": tool_properties['tool_name'],\n",
    "            \"description\": tool_properties['tool_description'],\n",
    "            \"inputSchema\": {\n",
    "                \"json\": {\n",
    "                    \"type\": \"object\",\n",
    "                    \"properties\": {\n",
    "                        \"entities\": {\n",
    "                            \"type\": \"array\",\n",
    "                            \"items\": {\n",
    "                                \"type\": \"object\",\n",
    "                                \"properties\": tool_properties['tool_entity_description'],\n",
    "                                \"required\": tool_properties['tool_get_category']\n",
    "                            }\n",
    "                        }\n",
    "                    },\n",
    "                    \"required\": tool_properties['tool_extract_property']\n",
    "                }\n",
    "            }\n",
    "        }\n",
    "    }]"
   ]
  },
  {
   "cell_type": "code",
   "execution_count": 8,
   "metadata": {},
   "outputs": [],
   "source": [
    "def get_category(text, tools):\n",
    "    \"\"\"\n",
    "    Retrieves the product category from the given text using the specified tool properties.\n",
    "\n",
    "    Args:\n",
    "        text (str): The input text to be processed.\n",
    "        tool_properties (dict): A dictionary containing the properties of the tool to be used, such as tool name, description, entity description, and required properties.\n",
    "\n",
    "    Returns:\n",
    "        str or None: The product category if found, otherwise None.\n",
    "    \"\"\" \n",
    "\n",
    "    # Perform the conversation with the Bedrock model\n",
    "    response = bedrock.converse(\n",
    "        modelId=MODEL_ID,\n",
    "        inferenceConfig={\n",
    "            \"temperature\": 0,\n",
    "            \"maxTokens\": 4096\n",
    "        },\n",
    "        toolConfig={\"tools\": tools},\n",
    "        messages=[{\"role\": \"user\", \"content\": [{\"text\": text}]}]\n",
    "    )\n",
    "\n",
    "    # Extract the product category from the response\n",
    "    product_category = None\n",
    "    for content in response['output']['message']['content']:\n",
    "        if \"toolUse\" in content and content['toolUse']['name'] == \"get_category\":\n",
    "            product_category = content['toolUse']['input']\n",
    "            break\n",
    "\n",
    "    # Return the product category if found, otherwise print a message and return None\n",
    "    if product_category:\n",
    "        return product_category\n",
    "    else:\n",
    "        print(\"No entities found in the response.\")\n",
    "        return None"
   ]
  },
  {
   "cell_type": "markdown",
   "metadata": {},
   "source": [
    "## Construct Metadata Filter\n",
    "Now, let's create a function to construct the metadata filter based on the extracted entities:"
   ]
  },
  {
   "cell_type": "code",
   "execution_count": 9,
   "metadata": {},
   "outputs": [],
   "source": [
    "def construct_metadata_filter(product_category):\n",
    "    metadata_filter = {\"andAll\": []}\n",
    "\n",
    "    if product_category and product_category != 'unknown':\n",
    "        metadata_filter[\"andAll\"].append({\n",
    "            \"equals\": {\n",
    "                \"key\": \"subcategory_1\",\n",
    "                \"value\": product_category\n",
    "            }\n",
    "        })\n",
    "    \n",
    "    else:\n",
    "        print(\"Product category is unknown. Skipping metadata filter.\")\n",
    "\n",
    "    return metadata_filter if metadata_filter[\"andAll\"] else None"
   ]
  },
  {
   "cell_type": "markdown",
   "metadata": {},
   "source": [
    "## Example"
   ]
  },
  {
   "cell_type": "code",
   "execution_count": 12,
   "metadata": {},
   "outputs": [],
   "source": [
    "user_question=\"I'm looking for sand to do DIY activities with my son\"\n",
    "user_question=\"Barbie for Ken with dreamy house\"\n",
    "user_question=\"Tienes el DVD de Duro de Matar?\"\n",
    "# user_question=\"Tienes tijeras para cortar el césped?\""
   ]
  },
  {
   "cell_type": "code",
   "execution_count": 13,
   "metadata": {},
   "outputs": [
    {
     "name": "stdout",
     "output_type": "stream",
     "text": [
      "Here is the prepared metadata filters:\n",
      "{\n",
      "    \"andAll\": [\n",
      "        {\n",
      "            \"equals\": {\n",
      "                \"key\": \"subcategory_1\",\n",
      "                \"value\": {\n",
      "                    \"entities\": [\n",
      "                        {\n",
      "                            \"Product_Category\": \"DVD\"\n",
      "                        }\n",
      "                    ]\n",
      "                }\n",
      "            }\n",
      "        }\n",
      "    ]\n",
      "}\n"
     ]
    }
   ],
   "source": [
    "extracted_entities = get_category(user_question, toolSpec)\n",
    "metadata_filter = construct_metadata_filter(extracted_entities)\n",
    "print('Here is the prepared metadata filters:')\n",
    "print(json.dumps(metadata_filter, indent=4))"
   ]
  },
  {
   "cell_type": "markdown",
   "metadata": {},
   "source": [
    "---\n",
    "### Finalmente, podemos llamar la API de Retrieve con los nuevos filtros:\n",
    "> e.g.\n",
    "```python\n",
    "def process_query(text, tool_properties):\n",
    "    extracted_entities = get_category(text, tool_properties)\n",
    "    metadata_filter = construct_metadata_filter(extracted_entities)\n",
    "    \n",
    "    # Call Bedrock KB with Metadata Filter\n",
    "    response = bedrock_agent_runtime.retrieve_and_generate(\n",
    "        knowledgeBaseId=kb_id,\n",
    "        retrievalConfiguration={\n",
    "            \"vectorSearchConfiguration\": {\n",
    "                \"filter\": metadata_filter\n",
    "            }\n",
    "        },\n",
    "        retrievalQuery={\n",
    "            \"text\": \"Tienes tijeras para cortar el césped?\"\n",
    "        },\n",
    "        modelArn='eu.claude...'\n",
    "    return response\n",
    "```\n",
    "Tal cual nos los solicita la [API de Bedrock](https://boto3.amazonaws.com/v1/documentation/api/latest/reference/services/bedrock-agent-runtime/client/retrieve_and_generate.html):\n",
    "\n",
    "![](./images/bedrock_retrieve_api.png)"
   ]
  },
  {
   "cell_type": "markdown",
   "metadata": {},
   "source": []
  }
 ],
 "metadata": {
  "kernelspec": {
   "display_name": ".venv",
   "language": "python",
   "name": "python3"
  },
  "language_info": {
   "codemirror_mode": {
    "name": "ipython",
    "version": 3
   },
   "file_extension": ".py",
   "mimetype": "text/x-python",
   "name": "python",
   "nbconvert_exporter": "python",
   "pygments_lexer": "ipython3",
   "version": "3.12.5"
  }
 },
 "nbformat": 4,
 "nbformat_minor": 2
}
